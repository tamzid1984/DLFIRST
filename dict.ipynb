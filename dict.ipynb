{
  "cells": [
    {
      "cell_type": "markdown",
      "metadata": {
        "id": "view-in-github",
        "colab_type": "text"
      },
      "source": [
        "<a href=\"https://colab.research.google.com/github/tamzid1984/Python-Basic/blob/main/dict.ipynb\" target=\"_parent\"><img src=\"https://colab.research.google.com/assets/colab-badge.svg\" alt=\"Open In Colab\"/></a>"
      ]
    },
    {
      "cell_type": "code",
      "execution_count": 1,
      "id": "1724fe12-0def-4b11-84a6-1c717e18f7f0",
      "metadata": {
        "id": "1724fe12-0def-4b11-84a6-1c717e18f7f0"
      },
      "outputs": [],
      "source": [
        "#pairs = [key, value]\n",
        "d = dict()"
      ]
    },
    {
      "cell_type": "code",
      "execution_count": 2,
      "id": "58184863-1ecc-4b16-bd30-99e7e4715341",
      "metadata": {
        "id": "58184863-1ecc-4b16-bd30-99e7e4715341",
        "outputId": "7f21c723-9d07-4739-e58e-79a19b74907d",
        "colab": {
          "base_uri": "https://localhost:8080/"
        }
      },
      "outputs": [
        {
          "output_type": "execute_result",
          "data": {
            "text/plain": [
              "dict"
            ]
          },
          "metadata": {},
          "execution_count": 2
        }
      ],
      "source": [
        "type(d)"
      ]
    },
    {
      "cell_type": "code",
      "execution_count": 3,
      "id": "00909f45-5234-4f1c-aed3-4b3694ea01ec",
      "metadata": {
        "id": "00909f45-5234-4f1c-aed3-4b3694ea01ec"
      },
      "outputs": [],
      "source": [
        "d = dict(key = \"value\")\n",
        "d = dict([('key', 'value')])"
      ]
    },
    {
      "cell_type": "code",
      "execution_count": 4,
      "id": "4ebabc5f-0f80-4c91-87bc-0348afca9698",
      "metadata": {
        "id": "4ebabc5f-0f80-4c91-87bc-0348afca9698"
      },
      "outputs": [],
      "source": [
        "info = {\"name\": \"bangladesh\",\n",
        "       \"i_year\": 1971}"
      ]
    },
    {
      "cell_type": "code",
      "execution_count": 5,
      "id": "d6c71921-ec63-418f-87e5-2fd3bede2f9f",
      "metadata": {
        "id": "d6c71921-ec63-418f-87e5-2fd3bede2f9f",
        "outputId": "bdd5513d-e1f1-44f2-fd9f-ea517f251990",
        "colab": {
          "base_uri": "https://localhost:8080/"
        }
      },
      "outputs": [
        {
          "output_type": "execute_result",
          "data": {
            "text/plain": [
              "{'name': 'bangladesh', 'i_year': 1971}"
            ]
          },
          "metadata": {},
          "execution_count": 5
        }
      ],
      "source": [
        "info"
      ]
    },
    {
      "cell_type": "code",
      "execution_count": 6,
      "id": "3f20b490-d5b2-4477-ab04-5e71ac1f14e0",
      "metadata": {
        "id": "3f20b490-d5b2-4477-ab04-5e71ac1f14e0",
        "outputId": "55e939ef-3f6c-4a47-f007-ab133b70147a",
        "colab": {
          "base_uri": "https://localhost:8080/"
        }
      },
      "outputs": [
        {
          "output_type": "execute_result",
          "data": {
            "text/plain": [
              "dict_keys(['name', 'i_year'])"
            ]
          },
          "metadata": {},
          "execution_count": 6
        }
      ],
      "source": [
        "info.keys()"
      ]
    },
    {
      "cell_type": "code",
      "execution_count": 7,
      "id": "b488e683-f616-4d61-bea4-ef191a6c18ae",
      "metadata": {
        "id": "b488e683-f616-4d61-bea4-ef191a6c18ae",
        "outputId": "0c309b7d-df6b-4f39-bca3-d0d036c49dd4",
        "colab": {
          "base_uri": "https://localhost:8080/"
        }
      },
      "outputs": [
        {
          "output_type": "execute_result",
          "data": {
            "text/plain": [
              "dict_values(['bangladesh', 1971])"
            ]
          },
          "metadata": {},
          "execution_count": 7
        }
      ],
      "source": [
        "info.values()"
      ]
    },
    {
      "cell_type": "code",
      "execution_count": 8,
      "id": "e390ec36-fd35-46be-82af-2756c3898cae",
      "metadata": {
        "id": "e390ec36-fd35-46be-82af-2756c3898cae",
        "outputId": "120d2843-8e25-430f-a8f4-a633819eae1f",
        "colab": {
          "base_uri": "https://localhost:8080/"
        }
      },
      "outputs": [
        {
          "output_type": "execute_result",
          "data": {
            "text/plain": [
              "dict_items([('name', 'bangladesh'), ('i_year', 1971)])"
            ]
          },
          "metadata": {},
          "execution_count": 8
        }
      ],
      "source": [
        "info.items()"
      ]
    },
    {
      "cell_type": "code",
      "execution_count": 9,
      "id": "981cf953-f244-4564-98e6-58ae56d1df30",
      "metadata": {
        "id": "981cf953-f244-4564-98e6-58ae56d1df30",
        "outputId": "1799df3a-7c0e-4beb-a0db-7d66e3949181",
        "colab": {
          "base_uri": "https://localhost:8080/"
        }
      },
      "outputs": [
        {
          "output_type": "stream",
          "name": "stdout",
          "text": [
            "name : bangladesh\n",
            "i_year : 1971\n"
          ]
        }
      ],
      "source": [
        "for key, value in info.items():\n",
        "    print(key,\":\",value)"
      ]
    },
    {
      "cell_type": "code",
      "execution_count": null,
      "id": "a6434e4d-8cf4-4e6d-8252-0112ba1c74a5",
      "metadata": {
        "id": "a6434e4d-8cf4-4e6d-8252-0112ba1c74a5"
      },
      "outputs": [],
      "source": []
    }
  ],
  "metadata": {
    "kernelspec": {
      "display_name": "Python 3",
      "language": "python",
      "name": "python3"
    },
    "language_info": {
      "codemirror_mode": {
        "name": "ipython",
        "version": 3
      },
      "file_extension": ".py",
      "mimetype": "text/x-python",
      "name": "python",
      "nbconvert_exporter": "python",
      "pygments_lexer": "ipython3",
      "version": "3.9.6"
    },
    "colab": {
      "provenance": [],
      "include_colab_link": true
    }
  },
  "nbformat": 4,
  "nbformat_minor": 5
}