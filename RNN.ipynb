{
  "cells": [
    {
      "cell_type": "markdown",
      "metadata": {
        "id": "view-in-github",
        "colab_type": "text"
      },
      "source": [
        "<a href=\"https://colab.research.google.com/github/tamzid1984/DLFIRST/blob/main/RNN.ipynb\" target=\"_parent\"><img src=\"https://colab.research.google.com/assets/colab-badge.svg\" alt=\"Open In Colab\"/></a>"
      ]
    },
    {
      "cell_type": "code",
      "execution_count": null,
      "id": "71c5e939-abf4-4576-aca4-8568f64feee8",
      "metadata": {
        "id": "71c5e939-abf4-4576-aca4-8568f64feee8"
      },
      "outputs": [],
      "source": [
        "# Import model & datasets load\n",
        "import numpy as np\n",
        "import warnings\n",
        "warnings.filterwarnings('ignore')\n",
        "\n",
        "# Some Scikit-learn function\n",
        "from sklearn.metrics import accuracy_score\n",
        "from tensorflow.keras.datasets import reuters\n",
        "from tensorflow.keras.preprocessing.sequence import pad_sequences\n",
        "from tensorflow.keras.utils import to_categorical"
      ]
    },
    {
      "cell_type": "code",
      "execution_count": null,
      "id": "a56e7ac1-9545-41c0-ab73-17c45fac9e13",
      "metadata": {
        "id": "a56e7ac1-9545-41c0-ab73-17c45fac9e13"
      },
      "outputs": [],
      "source": [
        "# Parameters\n",
        "num_words = 30000\n",
        "mxlen = 50\n",
        "test_split = 0.2#Train split = 0.8"
      ]
    },
    {
      "cell_type": "code",
      "execution_count": null,
      "id": "dbd245d6-8636-4da7-be47-b36d0e04dbbc",
      "metadata": {
        "id": "dbd245d6-8636-4da7-be47-b36d0e04dbbc",
        "outputId": "307512fa-dfd5-4f8f-94f0-188a5f271901"
      },
      "outputs": [
        {
          "name": "stderr",
          "output_type": "stream",
          "text": [
            "/opt/anaconda3/envs/DL/lib/python3.7/site-packages/tensorflow/python/keras/datasets/reuters.py:143: VisibleDeprecationWarning: Creating an ndarray from ragged nested sequences (which is a list-or-tuple of lists-or-tuples-or ndarrays with different lengths or shapes) is deprecated. If you meant to do this, you must specify 'dtype=object' when creating the ndarray\n",
            "  x_train, y_train = np.array(xs[:idx]), np.array(labels[:idx])\n",
            "/opt/anaconda3/envs/DL/lib/python3.7/site-packages/tensorflow/python/keras/datasets/reuters.py:144: VisibleDeprecationWarning: Creating an ndarray from ragged nested sequences (which is a list-or-tuple of lists-or-tuples-or ndarrays with different lengths or shapes) is deprecated. If you meant to do this, you must specify 'dtype=object' when creating the ndarray\n",
            "  x_test, y_test = np.array(xs[idx:]), np.array(labels[idx:])\n"
          ]
        }
      ],
      "source": [
        "(x_train, y_train), (x_test, y_test) = reuters.load_data(num_words=num_words, test_split=test_split)"
      ]
    },
    {
      "cell_type": "code",
      "execution_count": null,
      "id": "d2b448b5-e06e-48bc-87b4-b8c1c2e6911c",
      "metadata": {
        "id": "d2b448b5-e06e-48bc-87b4-b8c1c2e6911c"
      },
      "outputs": [],
      "source": [
        "x_train = pad_sequences(x_train, padding='post')\n",
        "x_test = pad_sequences(x_test, padding='post')"
      ]
    },
    {
      "cell_type": "code",
      "execution_count": null,
      "id": "f2c86e2d-bab7-4612-a880-2e60bb0a508a",
      "metadata": {
        "id": "f2c86e2d-bab7-4612-a880-2e60bb0a508a"
      },
      "outputs": [],
      "source": [
        "x_train = np.array(x_train).reshape((x_train.shape[0], x_train.shape[1], 1))\n",
        "x_test = np.array(x_test).reshape((x_test.shape[0], x_test.shape[1], 1))"
      ]
    },
    {
      "cell_type": "code",
      "execution_count": null,
      "id": "c23209bb-38ea-4ce0-9917-8ce5583e8b40",
      "metadata": {
        "id": "c23209bb-38ea-4ce0-9917-8ce5583e8b40"
      },
      "outputs": [],
      "source": [
        "#print(x_train[0]) # Without padding = 'post'\n",
        "#print(x_train[0]) # With padding = 'post'"
      ]
    },
    {
      "cell_type": "code",
      "execution_count": null,
      "id": "0c128ef4-30db-4cdc-a9df-7cdb69dd45eb",
      "metadata": {
        "id": "0c128ef4-30db-4cdc-a9df-7cdb69dd45eb"
      },
      "outputs": [],
      "source": [
        "y_data = np.concatenate((y_train, y_test))\n",
        "y_data = to_categorical(y_data)"
      ]
    },
    {
      "cell_type": "code",
      "execution_count": null,
      "id": "cf1152eb-0804-4b9a-8cf0-bb241d69c816",
      "metadata": {
        "id": "cf1152eb-0804-4b9a-8cf0-bb241d69c816"
      },
      "outputs": [],
      "source": [
        "y_train =  y_data[:8982]\n",
        "y_test = y_data[8982:]"
      ]
    },
    {
      "cell_type": "code",
      "execution_count": null,
      "id": "e5044b4c-2907-4979-864f-5480b03b486d",
      "metadata": {
        "id": "e5044b4c-2907-4979-864f-5480b03b486d",
        "outputId": "06aa4b88-08c5-466f-f38d-800110f78909"
      },
      "outputs": [
        {
          "name": "stdout",
          "output_type": "stream",
          "text": [
            "(8982, 2376, 1)\n",
            "\n",
            "(2246, 1032, 1)\n",
            "\n",
            "(8982, 46)\n",
            "\n",
            "(2246, 46)\n"
          ]
        }
      ],
      "source": [
        "print(x_train.shape)\n",
        "print()\n",
        "print(x_test.shape)\n",
        "print()\n",
        "print(y_train.shape)\n",
        "print()\n",
        "print(y_test.shape)"
      ]
    },
    {
      "cell_type": "markdown",
      "id": "254d9b68-e729-4959-bf3f-2d131cbbc57b",
      "metadata": {
        "id": "254d9b68-e729-4959-bf3f-2d131cbbc57b"
      },
      "source": [
        "### Vanilla RNN"
      ]
    },
    {
      "cell_type": "code",
      "execution_count": null,
      "id": "e695f46e-609e-402a-854e-6300ad66ba0f",
      "metadata": {
        "id": "e695f46e-609e-402a-854e-6300ad66ba0f"
      },
      "outputs": [],
      "source": [
        "from tensorflow.keras.models import Sequential\n",
        "from tensorflow.keras.layers import Dense, SimpleRNN, Activation\n",
        "from tensorflow.keras import optimizers\n",
        "from tensorflow.keras.wrappers.scikit_learn import KerasClassifier"
      ]
    },
    {
      "cell_type": "code",
      "execution_count": null,
      "id": "2f045739-614f-4166-ab6a-601bad131142",
      "metadata": {
        "id": "2f045739-614f-4166-ab6a-601bad131142"
      },
      "outputs": [],
      "source": [
        "def vanilla_RNN():\n",
        "    model = Sequential()\n",
        "    model.add(SimpleRNN(50, input_shape = (49, 1), return_sequences = False))\n",
        "    model.add(Dense(46))\n",
        "    model.add(Activation('softmax'))\n",
        "    \n",
        "    adam_optimizer = optimizers.Adam(learning_rate=0.001)\n",
        "    model.compile(loss = \"categorical_crossentropy\", optimizer = adam_optimizer, metrics=['accuracy'])\n",
        "    \n",
        "    return model"
      ]
    },
    {
      "cell_type": "code",
      "execution_count": null,
      "id": "472cc154-5722-44de-89a0-81f28d4b0378",
      "metadata": {
        "id": "472cc154-5722-44de-89a0-81f28d4b0378"
      },
      "outputs": [],
      "source": [
        "model = KerasClassifier(build_fn=vanilla_RNN, epochs = 2, batch_size = 100)"
      ]
    },
    {
      "cell_type": "code",
      "execution_count": null,
      "id": "6ede7333-e904-4560-aa34-2853ba50eb38",
      "metadata": {
        "id": "6ede7333-e904-4560-aa34-2853ba50eb38",
        "outputId": "18b4be31-161a-4485-dc9c-81fad20364f8"
      },
      "outputs": [
        {
          "name": "stdout",
          "output_type": "stream",
          "text": [
            "Epoch 1/2\n",
            "WARNING:tensorflow:Model was constructed with shape (None, 49, 1) for input KerasTensor(type_spec=TensorSpec(shape=(None, 49, 1), dtype=tf.float32, name='simple_rnn_1_input'), name='simple_rnn_1_input', description=\"created by layer 'simple_rnn_1_input'\"), but it was called on an input with incompatible shape (None, 2376, 1).\n",
            "WARNING:tensorflow:Model was constructed with shape (None, 49, 1) for input KerasTensor(type_spec=TensorSpec(shape=(None, 49, 1), dtype=tf.float32, name='simple_rnn_1_input'), name='simple_rnn_1_input', description=\"created by layer 'simple_rnn_1_input'\"), but it was called on an input with incompatible shape (None, 2376, 1).\n",
            "90/90 [==============================] - 27s 295ms/step - loss: 2.6704 - accuracy: 0.3366\n",
            "Epoch 2/2\n",
            "90/90 [==============================] - 27s 295ms/step - loss: 2.4101 - accuracy: 0.3517\n"
          ]
        },
        {
          "data": {
            "text/plain": [
              "<tensorflow.python.keras.callbacks.History at 0x7f7f4ff08d50>"
            ]
          },
          "execution_count": 24,
          "metadata": {},
          "output_type": "execute_result"
        }
      ],
      "source": [
        "model.fit(x_train, y_train)"
      ]
    },
    {
      "cell_type": "code",
      "execution_count": null,
      "id": "073cfe82-ff5f-48bc-a491-2ff3488fb39b",
      "metadata": {
        "id": "073cfe82-ff5f-48bc-a491-2ff3488fb39b",
        "outputId": "2dfd0bee-f28b-4c76-e234-05a2eba4dac2"
      },
      "outputs": [
        {
          "name": "stdout",
          "output_type": "stream",
          "text": [
            "WARNING:tensorflow:Model was constructed with shape (None, 49, 1) for input KerasTensor(type_spec=TensorSpec(shape=(None, 49, 1), dtype=tf.float32, name='simple_rnn_1_input'), name='simple_rnn_1_input', description=\"created by layer 'simple_rnn_1_input'\"), but it was called on an input with incompatible shape (None, 1032, 1).\n"
          ]
        }
      ],
      "source": [
        "y_pred = model.predict(x_test)\n",
        "y_test_ = np.argmax(y_test, axis=1)"
      ]
    },
    {
      "cell_type": "code",
      "execution_count": null,
      "id": "6161a20d-3672-46fc-80b5-fbefb76c550f",
      "metadata": {
        "id": "6161a20d-3672-46fc-80b5-fbefb76c550f",
        "outputId": "47c2f6d5-5526-4f2e-bae5-c1efadb011ba"
      },
      "outputs": [
        {
          "name": "stdout",
          "output_type": "stream",
          "text": [
            "Accuracy:  0.3619768477292965\n"
          ]
        }
      ],
      "source": [
        "print(\"Accuracy: \", accuracy_score(y_pred, y_test_))"
      ]
    },
    {
      "cell_type": "markdown",
      "id": "aa93b482-477c-435a-a808-85af9ce91083",
      "metadata": {
        "id": "aa93b482-477c-435a-a808-85af9ce91083"
      },
      "source": [
        "### LSTM"
      ]
    },
    {
      "cell_type": "code",
      "execution_count": null,
      "id": "02977cca-3fef-46e9-afa3-b65a33444818",
      "metadata": {
        "id": "02977cca-3fef-46e9-afa3-b65a33444818"
      },
      "outputs": [],
      "source": [
        "from tensorflow.keras.layers import LSTM"
      ]
    },
    {
      "cell_type": "code",
      "execution_count": null,
      "id": "ac00bc6e-1623-4453-954d-452c5cbc5a6c",
      "metadata": {
        "id": "ac00bc6e-1623-4453-954d-452c5cbc5a6c"
      },
      "outputs": [],
      "source": [
        "def LSTM_RNN():\n",
        "    model = Sequential()\n",
        "    model.add(LSTM(50, input_shape = (49, 1), return_sequences = False))\n",
        "    model.add(Dense(46))\n",
        "    model.add(Activation('softmax'))\n",
        "    \n",
        "    adam_optimizer = optimizers.Adam(learning_rate=0.001)\n",
        "    model.compile(loss = \"categorical_crossentropy\", optimizer = adam_optimizer, metrics=['accuracy'])\n",
        "    \n",
        "    return model"
      ]
    },
    {
      "cell_type": "code",
      "execution_count": null,
      "id": "9de1c26c-52f0-4cf4-8c75-a3cc5a274400",
      "metadata": {
        "id": "9de1c26c-52f0-4cf4-8c75-a3cc5a274400"
      },
      "outputs": [],
      "source": [
        "model = KerasClassifier(build_fn=LSTM_RNN, epochs = 2, batch_size = 100)"
      ]
    },
    {
      "cell_type": "code",
      "execution_count": null,
      "id": "0b4b877c-afa1-4ca0-82aa-afea814856f0",
      "metadata": {
        "id": "0b4b877c-afa1-4ca0-82aa-afea814856f0",
        "outputId": "8bcdb9c1-83c5-4110-ede3-7efb63b48b60"
      },
      "outputs": [
        {
          "name": "stdout",
          "output_type": "stream",
          "text": [
            "Epoch 1/2\n",
            "WARNING:tensorflow:Model was constructed with shape (None, 49, 1) for input KerasTensor(type_spec=TensorSpec(shape=(None, 49, 1), dtype=tf.float32, name='lstm_input'), name='lstm_input', description=\"created by layer 'lstm_input'\"), but it was called on an input with incompatible shape (None, 2376, 1).\n",
            "WARNING:tensorflow:Model was constructed with shape (None, 49, 1) for input KerasTensor(type_spec=TensorSpec(shape=(None, 49, 1), dtype=tf.float32, name='lstm_input'), name='lstm_input', description=\"created by layer 'lstm_input'\"), but it was called on an input with incompatible shape (None, 2376, 1).\n",
            "90/90 [==============================] - 82s 890ms/step - loss: 2.7634 - accuracy: 0.3478\n",
            "Epoch 2/2\n",
            "90/90 [==============================] - 83s 921ms/step - loss: 2.4084 - accuracy: 0.3517\n"
          ]
        },
        {
          "data": {
            "text/plain": [
              "<tensorflow.python.keras.callbacks.History at 0x7f7f77c337d0>"
            ]
          },
          "execution_count": 19,
          "metadata": {},
          "output_type": "execute_result"
        }
      ],
      "source": [
        "model.fit(x_train, y_train)"
      ]
    },
    {
      "cell_type": "code",
      "execution_count": null,
      "id": "5c200f82-9aa7-434b-9419-514320861d62",
      "metadata": {
        "id": "5c200f82-9aa7-434b-9419-514320861d62",
        "outputId": "590aee57-044a-461e-dc32-18731e2c0b83"
      },
      "outputs": [
        {
          "name": "stdout",
          "output_type": "stream",
          "text": [
            "WARNING:tensorflow:Model was constructed with shape (None, 49, 1) for input KerasTensor(type_spec=TensorSpec(shape=(None, 49, 1), dtype=tf.float32, name='lstm_input'), name='lstm_input', description=\"created by layer 'lstm_input'\"), but it was called on an input with incompatible shape (None, 1032, 1).\n"
          ]
        },
        {
          "name": "stderr",
          "output_type": "stream",
          "text": [
            "/opt/anaconda3/envs/DL/lib/python3.7/site-packages/tensorflow/python/keras/engine/sequential.py:455: UserWarning: `model.predict_classes()` is deprecated and will be removed after 2021-01-01. Please use instead:* `np.argmax(model.predict(x), axis=-1)`,   if your model does multi-class classification   (e.g. if it uses a `softmax` last-layer activation).* `(model.predict(x) > 0.5).astype(\"int32\")`,   if your model does binary classification   (e.g. if it uses a `sigmoid` last-layer activation).\n",
            "  warnings.warn('`model.predict_classes()` is deprecated and '\n"
          ]
        }
      ],
      "source": [
        "y_pred = model.predict(x_test)\n",
        "y_test_ = np.argmax(y_test, axis=1)"
      ]
    },
    {
      "cell_type": "code",
      "execution_count": null,
      "id": "88f56e41-598d-415d-9de9-c292a77dbf0d",
      "metadata": {
        "id": "88f56e41-598d-415d-9de9-c292a77dbf0d",
        "outputId": "1674a451-90d6-4b98-b168-effce28124d9"
      },
      "outputs": [
        {
          "name": "stdout",
          "output_type": "stream",
          "text": [
            "Accuracy:  0.3619768477292965\n"
          ]
        }
      ],
      "source": [
        "print(\"Accuracy: \", accuracy_score(y_pred, y_test_))"
      ]
    },
    {
      "cell_type": "code",
      "execution_count": null,
      "id": "0f90a295-7fba-481c-9f68-6afc6638befd",
      "metadata": {
        "id": "0f90a295-7fba-481c-9f68-6afc6638befd"
      },
      "outputs": [],
      "source": [
        "def Advance_LSTM_RNN():\n",
        "    model = Sequential()\n",
        "    model.add(LSTM(50, input_shape = (49, 1), return_sequences = True))\n",
        "    model.add(LSTM(50, return_sequences = False))\n",
        "    model.add(Dense(46))\n",
        "    model.add(Activation('softmax'))\n",
        "    \n",
        "    adam_optimizer = optimizers.Adam(learning_rate=0.001)\n",
        "    model.compile(loss = \"categorical_crossentropy\", optimizer = adam_optimizer, metrics=['accuracy'])\n",
        "    \n",
        "    return model"
      ]
    },
    {
      "cell_type": "code",
      "execution_count": null,
      "id": "ae823122-a47b-4182-8503-05893c034ddf",
      "metadata": {
        "id": "ae823122-a47b-4182-8503-05893c034ddf"
      },
      "outputs": [],
      "source": [
        "model = KerasClassifier(build_fn=Advance_LSTM_RNN, epochs = 2, batch_size = 100)"
      ]
    },
    {
      "cell_type": "code",
      "execution_count": null,
      "id": "f5215aeb-34d7-434b-9b19-fb73d8435572",
      "metadata": {
        "id": "f5215aeb-34d7-434b-9b19-fb73d8435572",
        "outputId": "6d7cc907-f83f-4908-c00a-e8190cb168e6"
      },
      "outputs": [
        {
          "name": "stdout",
          "output_type": "stream",
          "text": [
            "Epoch 1/2\n",
            "WARNING:tensorflow:Model was constructed with shape (None, 49, 1) for input KerasTensor(type_spec=TensorSpec(shape=(None, 49, 1), dtype=tf.float32, name='lstm_3_input'), name='lstm_3_input', description=\"created by layer 'lstm_3_input'\"), but it was called on an input with incompatible shape (None, 2376, 1).\n",
            "WARNING:tensorflow:Model was constructed with shape (None, 49, 1) for input KerasTensor(type_spec=TensorSpec(shape=(None, 49, 1), dtype=tf.float32, name='lstm_3_input'), name='lstm_3_input', description=\"created by layer 'lstm_3_input'\"), but it was called on an input with incompatible shape (None, 2376, 1).\n",
            "90/90 [==============================] - 218s 2s/step - loss: 2.6748 - accuracy: 0.3486\n",
            "Epoch 2/2\n",
            "90/90 [==============================] - 192s 2s/step - loss: 2.4098 - accuracy: 0.3517\n"
          ]
        },
        {
          "data": {
            "text/plain": [
              "<tensorflow.python.keras.callbacks.History at 0x7f7f50ad5d10>"
            ]
          },
          "execution_count": 33,
          "metadata": {},
          "output_type": "execute_result"
        }
      ],
      "source": [
        "model.fit(x_train, y_train)"
      ]
    },
    {
      "cell_type": "code",
      "execution_count": null,
      "id": "e1aab7e9-98b8-4557-a7af-4c276596d9d8",
      "metadata": {
        "id": "e1aab7e9-98b8-4557-a7af-4c276596d9d8",
        "outputId": "2625d269-a1ef-4d98-fa64-569a010a85da"
      },
      "outputs": [
        {
          "name": "stdout",
          "output_type": "stream",
          "text": [
            "WARNING:tensorflow:Model was constructed with shape (None, 49, 1) for input KerasTensor(type_spec=TensorSpec(shape=(None, 49, 1), dtype=tf.float32, name='lstm_3_input'), name='lstm_3_input', description=\"created by layer 'lstm_3_input'\"), but it was called on an input with incompatible shape (None, 1032, 1).\n",
            "Accuracy:  0.3619768477292965\n"
          ]
        }
      ],
      "source": [
        "y_pred = model.predict(x_test)\n",
        "y_test_ = np.argmax(y_test, axis=1)\n",
        "print(\"Accuracy: \", accuracy_score(y_pred, y_test_))"
      ]
    },
    {
      "cell_type": "code",
      "execution_count": null,
      "id": "25b24b4f-9269-45a7-ab5a-7f51ec3bf9a1",
      "metadata": {
        "id": "25b24b4f-9269-45a7-ab5a-7f51ec3bf9a1"
      },
      "outputs": [],
      "source": []
    }
  ],
  "metadata": {
    "kernelspec": {
      "display_name": "Python 3",
      "language": "python",
      "name": "python3"
    },
    "language_info": {
      "codemirror_mode": {
        "name": "ipython",
        "version": 3
      },
      "file_extension": ".py",
      "mimetype": "text/x-python",
      "name": "python",
      "nbconvert_exporter": "python",
      "pygments_lexer": "ipython3",
      "version": "3.7.11"
    },
    "colab": {
      "provenance": [],
      "include_colab_link": true
    }
  },
  "nbformat": 4,
  "nbformat_minor": 5
}