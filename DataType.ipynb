{
  "cells": [
    {
      "cell_type": "markdown",
      "metadata": {
        "id": "view-in-github",
        "colab_type": "text"
      },
      "source": [
        "<a href=\"https://colab.research.google.com/github/tamzid1984/Python-Basic/blob/main/DataType.ipynb\" target=\"_parent\"><img src=\"https://colab.research.google.com/assets/colab-badge.svg\" alt=\"Open In Colab\"/></a>"
      ]
    },
    {
      "cell_type": "markdown",
      "id": "c2f2c046-bc8d-4d46-9722-f3c9b173b76b",
      "metadata": {
        "id": "c2f2c046-bc8d-4d46-9722-f3c9b173b76b"
      },
      "source": [
        "### Data types:\n",
        "1. String\n",
        "2. int\n",
        "3. Float\n",
        "4. Boolean"
      ]
    },
    {
      "cell_type": "code",
      "execution_count": 1,
      "id": "d92c1b45-2b49-4339-8a34-e0550b70c79a",
      "metadata": {
        "id": "d92c1b45-2b49-4339-8a34-e0550b70c79a",
        "outputId": "f5777755-aa2c-4345-8830-6738cb06431f",
        "colab": {
          "base_uri": "https://localhost:8080/"
        }
      },
      "outputs": [
        {
          "output_type": "stream",
          "name": "stdout",
          "text": [
            "Md Tamzidul Islam\n"
          ]
        }
      ],
      "source": [
        "name = \"Md Tamzidul Islam\"\n",
        "print(name)"
      ]
    },
    {
      "cell_type": "code",
      "execution_count": 2,
      "id": "9ef8055d-47a1-4674-8800-cb512c9c0101",
      "metadata": {
        "id": "9ef8055d-47a1-4674-8800-cb512c9c0101",
        "outputId": "312ad6a1-9839-40eb-f9fb-af494f999a7f",
        "colab": {
          "base_uri": "https://localhost:8080/"
        }
      },
      "outputs": [
        {
          "output_type": "stream",
          "name": "stdout",
          "text": [
            "17\n"
          ]
        }
      ],
      "source": [
        "print(len(name))"
      ]
    },
    {
      "cell_type": "code",
      "execution_count": 4,
      "id": "c601b772-f160-4c45-8cac-798b4c8d269c",
      "metadata": {
        "id": "c601b772-f160-4c45-8cac-798b4c8d269c",
        "outputId": "6dea7601-3ce7-4ad4-f302-f8840a0ccb7e",
        "colab": {
          "base_uri": "https://localhost:8080/"
        }
      },
      "outputs": [
        {
          "output_type": "stream",
          "name": "stdout",
          "text": [
            "Md Tamzidul \n"
          ]
        }
      ],
      "source": [
        "print(name[0:12]) #[ start:END+1]"
      ]
    },
    {
      "cell_type": "code",
      "execution_count": 5,
      "id": "177076ff-1fec-457b-8963-118557731fc8",
      "metadata": {
        "id": "177076ff-1fec-457b-8963-118557731fc8",
        "outputId": "417d5785-78cc-448e-bea2-bd9b0ee1eeb6",
        "colab": {
          "base_uri": "https://localhost:8080/"
        }
      },
      "outputs": [
        {
          "output_type": "execute_result",
          "data": {
            "text/plain": [
              "str"
            ]
          },
          "metadata": {},
          "execution_count": 5
        }
      ],
      "source": [
        "type(name)"
      ]
    },
    {
      "cell_type": "code",
      "execution_count": 6,
      "id": "857f1c56-4f41-4fc6-b561-62ca31faf195",
      "metadata": {
        "id": "857f1c56-4f41-4fc6-b561-62ca31faf195",
        "outputId": "6c79ac92-b97e-4dff-9bff-327aaf0a846f",
        "colab": {
          "base_uri": "https://localhost:8080/",
          "height": 36
        }
      },
      "outputs": [
        {
          "output_type": "execute_result",
          "data": {
            "text/plain": [
              "'MD TAMZIDUL ISLAM'"
            ],
            "application/vnd.google.colaboratory.intrinsic+json": {
              "type": "string"
            }
          },
          "metadata": {},
          "execution_count": 6
        }
      ],
      "source": [
        "name.upper()"
      ]
    },
    {
      "cell_type": "code",
      "execution_count": 7,
      "id": "4b01d1df-aeef-4807-b555-ec7fe2f0da96",
      "metadata": {
        "id": "4b01d1df-aeef-4807-b555-ec7fe2f0da96",
        "outputId": "1404ac31-d29f-4d2f-8d5a-1e1edb332143",
        "colab": {
          "base_uri": "https://localhost:8080/",
          "height": 36
        }
      },
      "outputs": [
        {
          "output_type": "execute_result",
          "data": {
            "text/plain": [
              "'md tamzidul islam'"
            ],
            "application/vnd.google.colaboratory.intrinsic+json": {
              "type": "string"
            }
          },
          "metadata": {},
          "execution_count": 7
        }
      ],
      "source": [
        "name.lower()"
      ]
    },
    {
      "cell_type": "code",
      "execution_count": 8,
      "id": "0df01887-c8e3-4c04-92db-6132ac0cb82b",
      "metadata": {
        "id": "0df01887-c8e3-4c04-92db-6132ac0cb82b",
        "outputId": "ae35e38c-eb35-4520-89f5-46eb350a63f0",
        "colab": {
          "base_uri": "https://localhost:8080/",
          "height": 36
        }
      },
      "outputs": [
        {
          "output_type": "execute_result",
          "data": {
            "text/plain": [
              "'Md Tamzidul Islam'"
            ],
            "application/vnd.google.colaboratory.intrinsic+json": {
              "type": "string"
            }
          },
          "metadata": {},
          "execution_count": 8
        }
      ],
      "source": [
        "name.title()"
      ]
    },
    {
      "cell_type": "markdown",
      "id": "40441540-6ff6-4bb3-a1e1-f0b8fa6b4907",
      "metadata": {
        "id": "40441540-6ff6-4bb3-a1e1-f0b8fa6b4907"
      },
      "source": [
        "### Number \n",
        "* Int\n",
        "* Float\n",
        "* Complex\n",
        "* Long"
      ]
    },
    {
      "cell_type": "code",
      "execution_count": 9,
      "id": "4cad61a5-60c6-4ad8-ab95-55c8947b87a9",
      "metadata": {
        "id": "4cad61a5-60c6-4ad8-ab95-55c8947b87a9"
      },
      "outputs": [],
      "source": [
        "int_number = 4\n",
        "float_number = 4.0\n",
        "comlex_number = 3.14j  # 3 +9i\n",
        "#long_number = 31222444L"
      ]
    },
    {
      "cell_type": "code",
      "execution_count": 10,
      "id": "0a51fc6d-f7f7-4a45-8e83-6a42c5e3e963",
      "metadata": {
        "id": "0a51fc6d-f7f7-4a45-8e83-6a42c5e3e963",
        "outputId": "5fce0019-b5a8-41f0-92f6-72897f1b019e",
        "colab": {
          "base_uri": "https://localhost:8080/"
        }
      },
      "outputs": [
        {
          "output_type": "stream",
          "name": "stdout",
          "text": [
            "<class 'int'>\n",
            "<class 'float'>\n",
            "<class 'complex'>\n"
          ]
        }
      ],
      "source": [
        "print(type(int_number))\n",
        "print(type(float_number))\n",
        "print(type(comlex_number))"
      ]
    },
    {
      "cell_type": "code",
      "execution_count": null,
      "id": "e069d629-fbc8-417f-bbff-959dea6b9dfc",
      "metadata": {
        "id": "e069d629-fbc8-417f-bbff-959dea6b9dfc"
      },
      "outputs": [],
      "source": []
    }
  ],
  "metadata": {
    "kernelspec": {
      "display_name": "Python 3",
      "language": "python",
      "name": "python3"
    },
    "language_info": {
      "codemirror_mode": {
        "name": "ipython",
        "version": 3
      },
      "file_extension": ".py",
      "mimetype": "text/x-python",
      "name": "python",
      "nbconvert_exporter": "python",
      "pygments_lexer": "ipython3",
      "version": "3.9.6"
    },
    "colab": {
      "provenance": [],
      "include_colab_link": true
    }
  },
  "nbformat": 4,
  "nbformat_minor": 5
}