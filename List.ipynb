{
  "cells": [
    {
      "cell_type": "markdown",
      "metadata": {
        "id": "view-in-github",
        "colab_type": "text"
      },
      "source": [
        "<a href=\"https://colab.research.google.com/github/tamzid1984/Python-Basic/blob/main/List.ipynb\" target=\"_parent\"><img src=\"https://colab.research.google.com/assets/colab-badge.svg\" alt=\"Open In Colab\"/></a>"
      ]
    },
    {
      "cell_type": "markdown",
      "id": "fd2f2fb0-97b3-4b3b-9b72-33bc9ba51d64",
      "metadata": {
        "id": "fd2f2fb0-97b3-4b3b-9b72-33bc9ba51d64"
      },
      "source": [
        "### List:\n",
        "1. append()\n",
        "2. extend()\n",
        "3. index()\n",
        "4. insert()\n",
        "5. pop()\n",
        "6. remove()\n",
        "7. reverse()\n",
        "8. count()\n",
        "9. sort()\n",
        "10. clear()\n",
        "11. Replication()\n",
        "12. Element Deletion\n",
        "13. Copying"
      ]
    },
    {
      "cell_type": "markdown",
      "id": "2775457f-554c-4129-b3d1-4ff86dbffaf3",
      "metadata": {
        "id": "2775457f-554c-4129-b3d1-4ff86dbffaf3"
      },
      "source": [
        "#### 1. append() "
      ]
    },
    {
      "cell_type": "code",
      "execution_count": 1,
      "id": "7f68a48a-c8dd-4a8d-b611-618e0a866cca",
      "metadata": {
        "id": "7f68a48a-c8dd-4a8d-b611-618e0a866cca"
      },
      "outputs": [],
      "source": [
        "li = [1, 2, 3, 4, 5, 6] # Creating list"
      ]
    },
    {
      "cell_type": "code",
      "source": [
        "print(li)"
      ],
      "metadata": {
        "id": "6US9bW2x3_md",
        "outputId": "dd1d3614-b8c8-43eb-8e3c-881e53ca160f",
        "colab": {
          "base_uri": "https://localhost:8080/"
        }
      },
      "id": "6US9bW2x3_md",
      "execution_count": 2,
      "outputs": [
        {
          "output_type": "stream",
          "name": "stdout",
          "text": [
            "[1, 2, 3, 4, 5, 6]\n"
          ]
        }
      ]
    },
    {
      "cell_type": "code",
      "execution_count": 3,
      "id": "f3e92fd5-c227-4cfe-b521-8badd4666634",
      "metadata": {
        "id": "f3e92fd5-c227-4cfe-b521-8badd4666634"
      },
      "outputs": [],
      "source": [
        "li.append(3)# insert into last position"
      ]
    },
    {
      "cell_type": "code",
      "execution_count": 4,
      "id": "81eae769-eafe-41ac-a5ed-7cad9c6f7085",
      "metadata": {
        "id": "81eae769-eafe-41ac-a5ed-7cad9c6f7085",
        "outputId": "a54c38a4-4eda-4abb-8540-095e9e96b24e",
        "colab": {
          "base_uri": "https://localhost:8080/"
        }
      },
      "outputs": [
        {
          "output_type": "stream",
          "name": "stdout",
          "text": [
            "[1, 2, 3, 4, 5, 6, 3]\n"
          ]
        }
      ],
      "source": [
        "print(li)"
      ]
    },
    {
      "cell_type": "code",
      "execution_count": 5,
      "id": "41dfcb50-7653-4410-8778-b9a0e548793c",
      "metadata": {
        "id": "41dfcb50-7653-4410-8778-b9a0e548793c"
      },
      "outputs": [],
      "source": [
        "duplicate_list = [11, 2,2, 33, 44]\n",
        "li.append(duplicate_list)"
      ]
    },
    {
      "cell_type": "code",
      "execution_count": 6,
      "id": "2b684800-22d2-43c3-bbe1-4c40b2b02e68",
      "metadata": {
        "id": "2b684800-22d2-43c3-bbe1-4c40b2b02e68",
        "outputId": "acf4932c-1e15-41e7-dd50-6c7e797071e0",
        "colab": {
          "base_uri": "https://localhost:8080/"
        }
      },
      "outputs": [
        {
          "output_type": "stream",
          "name": "stdout",
          "text": [
            "[1, 2, 3, 4, 5, 6, 3, [11, 2, 2, 33, 44]]\n"
          ]
        }
      ],
      "source": [
        "print(li)"
      ]
    },
    {
      "cell_type": "code",
      "execution_count": 7,
      "id": "3862c409-4b1e-4df3-9b60-bc74907c6838",
      "metadata": {
        "id": "3862c409-4b1e-4df3-9b60-bc74907c6838",
        "outputId": "7219711c-a46a-4234-89a6-2cfdede17f10",
        "colab": {
          "base_uri": "https://localhost:8080/"
        }
      },
      "outputs": [
        {
          "output_type": "stream",
          "name": "stdout",
          "text": [
            "[1, 2, 3, 4, 5, 6, 3, [11, 2, 2, 33, 44], 'Bangladesh']\n"
          ]
        }
      ],
      "source": [
        "name = \"Bangladesh\"\n",
        "li.append(name)\n",
        "print(li)"
      ]
    },
    {
      "cell_type": "code",
      "execution_count": 8,
      "id": "bbbd32b0-d004-4c75-a84e-5a80808fc4a5",
      "metadata": {
        "id": "bbbd32b0-d004-4c75-a84e-5a80808fc4a5",
        "outputId": "145bf0f3-1679-4205-c28b-bcc59bbe1c03",
        "colab": {
          "base_uri": "https://localhost:8080/"
        }
      },
      "outputs": [
        {
          "output_type": "stream",
          "name": "stdout",
          "text": [
            "[11, 2, 2, 33, 44]\n"
          ]
        }
      ],
      "source": [
        "print(li[7]) "
      ]
    },
    {
      "cell_type": "code",
      "execution_count": 9,
      "id": "6968fd72-09f9-4886-8d9d-120dac2f331d",
      "metadata": {
        "id": "6968fd72-09f9-4886-8d9d-120dac2f331d",
        "outputId": "b3551f2c-0c99-48dd-9c9e-b37d34a9a2f7",
        "colab": {
          "base_uri": "https://localhost:8080/"
        }
      },
      "outputs": [
        {
          "output_type": "stream",
          "name": "stdout",
          "text": [
            "[0, 3, 3, 6, 6, 9, 9, 12, 12, 15]\n"
          ]
        }
      ],
      "source": [
        "a = [] # Blank list\n",
        "\n",
        "for i in range(1, 11):\n",
        "    a.append(i//2 * 3)\n",
        "\n",
        "    \n",
        "print(a)"
      ]
    },
    {
      "cell_type": "code",
      "execution_count": 10,
      "id": "e1175878-671b-407e-ae7a-6cd9d62d4334",
      "metadata": {
        "id": "e1175878-671b-407e-ae7a-6cd9d62d4334",
        "outputId": "23793bcf-abcf-49a1-99ca-27cc191a0803",
        "colab": {
          "base_uri": "https://localhost:8080/"
        }
      },
      "outputs": [
        {
          "output_type": "stream",
          "name": "stdout",
          "text": [
            "2.25\n",
            "2\n",
            "1\n"
          ]
        }
      ],
      "source": [
        "a = 4\n",
        "b = 9\n",
        "\n",
        "single_div = b/a\n",
        "modified_div = b//a # No reminder module\n",
        "module = 19%3\n",
        "print(single_div)\n",
        "print(modified_div)\n",
        "print(module)"
      ]
    },
    {
      "cell_type": "markdown",
      "id": "bb996271-e638-432d-a087-326d6ddf13fa",
      "metadata": {
        "id": "bb996271-e638-432d-a087-326d6ddf13fa"
      },
      "source": [
        "#### 2. Extend()"
      ]
    },
    {
      "cell_type": "code",
      "execution_count": 11,
      "id": "b035e87e-8b7f-4dc3-801b-e482c8ca0690",
      "metadata": {
        "id": "b035e87e-8b7f-4dc3-801b-e482c8ca0690"
      },
      "outputs": [],
      "source": [
        "initial_list = [1, 2, 3, 4, 5, 6, 7, 8, 9, 10]\n",
        "extra_list = [0, 3, 3, 6, 6, 9, 9, 12, 12, 15]\n",
        "\n",
        "# variable = initial_list.extend(extra_list)--> None\n",
        "\n",
        "initial_list.extend(extra_list)"
      ]
    },
    {
      "cell_type": "code",
      "execution_count": 12,
      "id": "47b159b2-15d7-4241-946e-ff1dc54bdd19",
      "metadata": {
        "id": "47b159b2-15d7-4241-946e-ff1dc54bdd19",
        "outputId": "89e47688-59ab-4829-9f7f-7d8ef6f7eb26",
        "colab": {
          "base_uri": "https://localhost:8080/"
        }
      },
      "outputs": [
        {
          "output_type": "execute_result",
          "data": {
            "text/plain": [
              "[1, 2, 3, 4, 5, 6, 7, 8, 9, 10, 0, 3, 3, 6, 6, 9, 9, 12, 12, 15]"
            ]
          },
          "metadata": {},
          "execution_count": 12
        }
      ],
      "source": [
        "initial_list"
      ]
    },
    {
      "cell_type": "code",
      "execution_count": 13,
      "id": "1766094c-c419-4f3d-9450-ae367ad1052c",
      "metadata": {
        "id": "1766094c-c419-4f3d-9450-ae367ad1052c"
      },
      "outputs": [],
      "source": [
        "initial_list.extend(range(33, 44))"
      ]
    },
    {
      "cell_type": "code",
      "execution_count": null,
      "id": "b00cdd54-8c4c-4ac2-a520-86b869f97d2d",
      "metadata": {
        "id": "b00cdd54-8c4c-4ac2-a520-86b869f97d2d",
        "outputId": "23e5b202-b147-4cce-8adc-a601282442f2"
      },
      "outputs": [
        {
          "name": "stdout",
          "output_type": "stream",
          "text": [
            "[1, 2, 3, 4, 5, 6, 7, 8, 9, 10, 0, 3, 3, 6, 6, 9, 9, 12, 12, 15, 0, 3, 3, 6, 6, 9, 9, 12, 12, 15, 33, 34, 35, 36, 37, 38, 39, 40, 41, 42, 43]\n"
          ]
        }
      ],
      "source": [
        "print(initial_list)"
      ]
    },
    {
      "cell_type": "code",
      "execution_count": null,
      "id": "c9dbe1fe-408c-49a8-ba17-b4322bcfb56c",
      "metadata": {
        "id": "c9dbe1fe-408c-49a8-ba17-b4322bcfb56c"
      },
      "outputs": [],
      "source": [
        "# data = pd.read_csv(\"name.csv\")\n",
        "# column = data[\"age\"]\n",
        "# initial_list.extend(column)"
      ]
    },
    {
      "cell_type": "markdown",
      "id": "3dfa2f83-16a9-4842-a6ff-e033ffce2ee1",
      "metadata": {
        "id": "3dfa2f83-16a9-4842-a6ff-e033ffce2ee1"
      },
      "source": [
        "#### 4. Indexing"
      ]
    },
    {
      "cell_type": "code",
      "execution_count": 14,
      "id": "29d5458e-e2bb-4447-a657-d57ef4a50cf8",
      "metadata": {
        "id": "29d5458e-e2bb-4447-a657-d57ef4a50cf8",
        "outputId": "a954b294-c162-4188-df8b-e825eb3f21fb",
        "colab": {
          "base_uri": "https://localhost:8080/"
        }
      },
      "outputs": [
        {
          "output_type": "stream",
          "name": "stdout",
          "text": [
            "[1, 2, 3, 4, 5, 6, 7, 8, 9, 10, 0, 3, 3, 6, 6, 9, 9, 12, 12, 15, 33, 34, 35, 36, 37, 38, 39, 40, 41, 42, 43]\n"
          ]
        }
      ],
      "source": [
        "print(initial_list)"
      ]
    },
    {
      "cell_type": "code",
      "execution_count": 15,
      "id": "297cd69d-49ba-48a8-8a71-d888acb3b344",
      "metadata": {
        "id": "297cd69d-49ba-48a8-8a71-d888acb3b344",
        "outputId": "37842663-6886-4c5d-c671-c98004d826dd",
        "colab": {
          "base_uri": "https://localhost:8080/"
        }
      },
      "outputs": [
        {
          "output_type": "stream",
          "name": "stdout",
          "text": [
            "30\n"
          ]
        }
      ],
      "source": [
        "print(initial_list.index(43)) # Input --> Value Output --> index"
      ]
    },
    {
      "cell_type": "code",
      "execution_count": 17,
      "id": "b5724a08-53e4-4687-bf91-f67127f781f9",
      "metadata": {
        "id": "b5724a08-53e4-4687-bf91-f67127f781f9",
        "outputId": "043c12cb-1c55-4496-9a4b-c9207e5e1cca",
        "colab": {
          "base_uri": "https://localhost:8080/"
        }
      },
      "outputs": [
        {
          "output_type": "execute_result",
          "data": {
            "text/plain": [
              "5"
            ]
          },
          "metadata": {},
          "execution_count": 17
        }
      ],
      "source": [
        "initial_list[4] # Input --> index || Output --> value"
      ]
    },
    {
      "cell_type": "code",
      "execution_count": 18,
      "id": "550710a7-a4e9-4e79-91a2-f7cb97833e87",
      "metadata": {
        "id": "550710a7-a4e9-4e79-91a2-f7cb97833e87"
      },
      "outputs": [],
      "source": [
        "initial_list.insert(4, 430) # # insert index at value"
      ]
    },
    {
      "cell_type": "code",
      "execution_count": 19,
      "id": "1b061d55-eba4-4c24-9c6f-7bb3aa3d2872",
      "metadata": {
        "id": "1b061d55-eba4-4c24-9c6f-7bb3aa3d2872",
        "outputId": "a94f6d95-5765-420f-9770-5b16c7e7275a",
        "colab": {
          "base_uri": "https://localhost:8080/"
        }
      },
      "outputs": [
        {
          "output_type": "stream",
          "name": "stdout",
          "text": [
            "[1, 2, 3, 4, 430, 5, 6, 7, 8, 9, 10, 0, 3, 3, 6, 6, 9, 9, 12, 12, 15, 33, 34, 35, 36, 37, 38, 39, 40, 41, 42, 43]\n"
          ]
        }
      ],
      "source": [
        "print(initial_list)"
      ]
    },
    {
      "cell_type": "code",
      "execution_count": 20,
      "id": "142166f5-622a-4a2a-9fbd-82088cb63a94",
      "metadata": {
        "id": "142166f5-622a-4a2a-9fbd-82088cb63a94",
        "outputId": "1d4e1fc7-5949-41af-9bd3-f661a034a885",
        "colab": {
          "base_uri": "https://localhost:8080/"
        }
      },
      "outputs": [
        {
          "output_type": "execute_result",
          "data": {
            "text/plain": [
              "430"
            ]
          },
          "metadata": {},
          "execution_count": 20
        }
      ],
      "source": [
        "initial_list.pop(4)"
      ]
    },
    {
      "cell_type": "code",
      "execution_count": 21,
      "id": "ddb51478-41f3-4c5a-bc5c-a1654e5a775a",
      "metadata": {
        "id": "ddb51478-41f3-4c5a-bc5c-a1654e5a775a",
        "outputId": "fb1e8746-a9ea-43ae-dec0-047346b48184",
        "colab": {
          "base_uri": "https://localhost:8080/"
        }
      },
      "outputs": [
        {
          "output_type": "execute_result",
          "data": {
            "text/plain": [
              "43"
            ]
          },
          "metadata": {},
          "execution_count": 21
        }
      ],
      "source": [
        "initial_list.pop() # parameter index"
      ]
    },
    {
      "cell_type": "code",
      "execution_count": 22,
      "id": "34c21bca-7854-4c3b-9d14-ca7ed720acff",
      "metadata": {
        "id": "34c21bca-7854-4c3b-9d14-ca7ed720acff",
        "outputId": "187df8ee-e66e-4c0c-ee99-79b514e4c641",
        "colab": {
          "base_uri": "https://localhost:8080/"
        }
      },
      "outputs": [
        {
          "output_type": "stream",
          "name": "stdout",
          "text": [
            "[1, 2, 3, 4, 5, 6, 7, 8, 9, 10, 0, 3, 3, 6, 6, 9, 9, 12, 12, 15, 33, 34, 35, 36, 37, 38, 39, 40, 41, 42]\n"
          ]
        }
      ],
      "source": [
        "print(initial_list)"
      ]
    },
    {
      "cell_type": "code",
      "execution_count": 24,
      "id": "d0ae0468-dec7-49e6-afc0-75c99480fe93",
      "metadata": {
        "id": "d0ae0468-dec7-49e6-afc0-75c99480fe93"
      },
      "outputs": [],
      "source": [
        "initial_list.remove(42) # parameter = Value  and perameter must"
      ]
    },
    {
      "cell_type": "code",
      "execution_count": 25,
      "id": "a2a24fe3-54b7-478d-9a89-1d4b68a12e1d",
      "metadata": {
        "id": "a2a24fe3-54b7-478d-9a89-1d4b68a12e1d",
        "outputId": "078db080-8b18-484a-c952-7ea03a363a77",
        "colab": {
          "base_uri": "https://localhost:8080/"
        }
      },
      "outputs": [
        {
          "output_type": "stream",
          "name": "stdout",
          "text": [
            "[1, 2, 3, 4, 5, 6, 7, 8, 9, 10, 0, 3, 3, 6, 6, 9, 9, 12, 12, 15, 33, 34, 35, 36, 37, 38, 39, 40, 41]\n"
          ]
        }
      ],
      "source": [
        "print(initial_list)"
      ]
    },
    {
      "cell_type": "code",
      "execution_count": 26,
      "id": "8e58e1df-ea5e-4db9-b1b6-76bf36d24ca8",
      "metadata": {
        "id": "8e58e1df-ea5e-4db9-b1b6-76bf36d24ca8"
      },
      "outputs": [],
      "source": [
        "initial_list.remove(3)"
      ]
    },
    {
      "cell_type": "code",
      "execution_count": 27,
      "id": "5ee0ccc3-069e-4d6b-8398-5cca639d5740",
      "metadata": {
        "id": "5ee0ccc3-069e-4d6b-8398-5cca639d5740",
        "outputId": "6d4fdf8d-0778-4d68-fe7a-9f0d2ae4d1bd",
        "colab": {
          "base_uri": "https://localhost:8080/"
        }
      },
      "outputs": [
        {
          "output_type": "stream",
          "name": "stdout",
          "text": [
            "[1, 2, 4, 5, 6, 7, 8, 9, 10, 0, 3, 3, 6, 6, 9, 9, 12, 12, 15, 33, 34, 35, 36, 37, 38, 39, 40, 41]\n"
          ]
        }
      ],
      "source": [
        "print(initial_list)"
      ]
    },
    {
      "cell_type": "code",
      "execution_count": 28,
      "id": "4a6574e2-b0b7-492b-a50b-9a8787e8ff4d",
      "metadata": {
        "id": "4a6574e2-b0b7-492b-a50b-9a8787e8ff4d"
      },
      "outputs": [],
      "source": [
        "initial_list.reverse()"
      ]
    },
    {
      "cell_type": "code",
      "execution_count": 29,
      "id": "254f1af3-b0f5-4439-8877-64e62fcfc8ee",
      "metadata": {
        "id": "254f1af3-b0f5-4439-8877-64e62fcfc8ee",
        "outputId": "11083a7d-5b28-4228-ed5b-7596209705d7",
        "colab": {
          "base_uri": "https://localhost:8080/"
        }
      },
      "outputs": [
        {
          "output_type": "stream",
          "name": "stdout",
          "text": [
            "[41, 40, 39, 38, 37, 36, 35, 34, 33, 15, 12, 12, 9, 9, 6, 6, 3, 3, 0, 10, 9, 8, 7, 6, 5, 4, 2, 1]\n"
          ]
        }
      ],
      "source": [
        "print(initial_list)"
      ]
    },
    {
      "cell_type": "code",
      "execution_count": 30,
      "id": "87054f5a-0431-447d-81f4-cf549f21c1a6",
      "metadata": {
        "id": "87054f5a-0431-447d-81f4-cf549f21c1a6"
      },
      "outputs": [],
      "source": [
        "initial_list.sort()"
      ]
    },
    {
      "cell_type": "code",
      "execution_count": 31,
      "id": "b88203eb-d596-49c2-a668-ed641248c8ff",
      "metadata": {
        "id": "b88203eb-d596-49c2-a668-ed641248c8ff",
        "outputId": "2415c0a1-9e89-4cdc-f641-76c755fbd79c",
        "colab": {
          "base_uri": "https://localhost:8080/"
        }
      },
      "outputs": [
        {
          "output_type": "stream",
          "name": "stdout",
          "text": [
            "[0, 1, 2, 3, 3, 4, 5, 6, 6, 6, 7, 8, 9, 9, 9, 10, 12, 12, 15, 33, 34, 35, 36, 37, 38, 39, 40, 41]\n"
          ]
        }
      ],
      "source": [
        "print(initial_list)"
      ]
    },
    {
      "cell_type": "code",
      "execution_count": null,
      "id": "1e673d7d-391f-4731-8b1b-459862acc696",
      "metadata": {
        "id": "1e673d7d-391f-4731-8b1b-459862acc696"
      },
      "outputs": [],
      "source": [
        "# multiple_data_list = [1, \"m\" , 3.3]\n",
        "# multiple_data_list.sort()\n",
        "# print(multiple_data_list)\n",
        "\n",
        "# \"\"\"\n",
        "# ---------------------------------------------------------------------------\n",
        "# TypeError                                 Traceback (most recent call last)\n",
        "# <ipython-input-69-44ecb413b5fc> in <module>\n",
        "#       1 multiple_data_list = [1, \"m\" , 3.3]\n",
        "# ----> 2 multiple_data_list.sort()\n",
        "#       3 print(multiple_data_list)\n",
        "\n",
        "# TypeError: '<' not supported between instances of 'str' and 'int'\n",
        "# \"\"\""
      ]
    },
    {
      "cell_type": "code",
      "execution_count": 32,
      "id": "23012c80-b7e7-448e-9371-0258f30de72e",
      "metadata": {
        "id": "23012c80-b7e7-448e-9371-0258f30de72e",
        "outputId": "f012be1f-900a-4867-ed27-744abf9ba483",
        "colab": {
          "base_uri": "https://localhost:8080/"
        }
      },
      "outputs": [
        {
          "output_type": "stream",
          "name": "stdout",
          "text": [
            "[41, 40, 39, 38, 37, 36, 35, 34, 33, 15, 12, 12, 10, 9, 9, 9, 8, 7, 6, 6, 6, 5, 4, 3, 3, 2, 1, 0]\n"
          ]
        }
      ],
      "source": [
        "initial_list.sort(reverse = True)\n",
        "print(initial_list)"
      ]
    },
    {
      "cell_type": "code",
      "execution_count": null,
      "id": "66283cfa-102b-4ebd-8e9c-97aae5a1c06f",
      "metadata": {
        "id": "66283cfa-102b-4ebd-8e9c-97aae5a1c06f"
      },
      "outputs": [],
      "source": [
        "#oop --> object oriented Programming\n",
        "# D-constructor\n",
        "# P-cons\n",
        "# def __init__():\n"
      ]
    },
    {
      "cell_type": "code",
      "execution_count": 37,
      "id": "dfaf7418-2e5b-48c4-ad92-cb4900f845b3",
      "metadata": {
        "id": "dfaf7418-2e5b-48c4-ad92-cb4900f845b3"
      },
      "outputs": [],
      "source": [
        "import datetime\n",
        "\n",
        "class Person(object):\n",
        "    def __init__(self, name, class_roll, height):\n",
        "        self.name = name\n",
        "        self.class_roll = class_roll\n",
        "        self.height = height\n",
        "        \n",
        "    def __repr__(self):\n",
        "        return str(self.class_roll)\n",
        "    \n",
        "person_list = [Person(\"Tamzid\", 342, 45),\n",
        "              Person(\"Ripon\", 56321, 784),\n",
        "              Person(\"Karim\", 5364, 54871)]\n",
        "\n",
        "person_list.sort(key = lambda item : item.class_roll)"
      ]
    },
    {
      "cell_type": "code",
      "execution_count": 38,
      "id": "713f55ad-6454-4824-8cd3-f5e7819d74e3",
      "metadata": {
        "id": "713f55ad-6454-4824-8cd3-f5e7819d74e3",
        "outputId": "85a12d46-a716-4fac-99ce-ade6aa94e668",
        "colab": {
          "base_uri": "https://localhost:8080/"
        }
      },
      "outputs": [
        {
          "output_type": "execute_result",
          "data": {
            "text/plain": [
              "[342, 5364, 56321]"
            ]
          },
          "metadata": {},
          "execution_count": 38
        }
      ],
      "source": [
        "person_list"
      ]
    },
    {
      "cell_type": "code",
      "execution_count": 39,
      "id": "c6e9eb40-a591-4d5e-94f8-4b91f85130e6",
      "metadata": {
        "id": "c6e9eb40-a591-4d5e-94f8-4b91f85130e6"
      },
      "outputs": [],
      "source": [
        "person_list.sort(key = lambda item : item.class_roll)"
      ]
    },
    {
      "cell_type": "code",
      "execution_count": 40,
      "id": "abc4f408-977c-42fc-ac55-3d79c60c544f",
      "metadata": {
        "id": "abc4f408-977c-42fc-ac55-3d79c60c544f",
        "outputId": "70e102c4-2f04-42fb-f26f-3b2edd7e6d2a",
        "colab": {
          "base_uri": "https://localhost:8080/"
        }
      },
      "outputs": [
        {
          "output_type": "execute_result",
          "data": {
            "text/plain": [
              "[342, 5364, 56321]"
            ]
          },
          "metadata": {},
          "execution_count": 40
        }
      ],
      "source": [
        "person_list"
      ]
    },
    {
      "cell_type": "code",
      "execution_count": null,
      "id": "d402267d-184c-43e6-bcf0-1dd5f0c4831f",
      "metadata": {
        "id": "d402267d-184c-43e6-bcf0-1dd5f0c4831f"
      },
      "outputs": [],
      "source": []
    }
  ],
  "metadata": {
    "kernelspec": {
      "display_name": "Python 3",
      "language": "python",
      "name": "python3"
    },
    "language_info": {
      "codemirror_mode": {
        "name": "ipython",
        "version": 3
      },
      "file_extension": ".py",
      "mimetype": "text/x-python",
      "name": "python",
      "nbconvert_exporter": "python",
      "pygments_lexer": "ipython3",
      "version": "3.9.6"
    },
    "colab": {
      "provenance": [],
      "include_colab_link": true
    }
  },
  "nbformat": 4,
  "nbformat_minor": 5
}