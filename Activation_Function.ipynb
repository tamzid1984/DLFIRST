{
  "nbformat": 4,
  "nbformat_minor": 0,
  "metadata": {
    "colab": {
      "provenance": [],
      "include_colab_link": true
    },
    "kernelspec": {
      "name": "python3",
      "display_name": "Python 3"
    },
    "language_info": {
      "name": "python"
    }
  },
  "cells": [
    {
      "cell_type": "markdown",
      "metadata": {
        "id": "view-in-github",
        "colab_type": "text"
      },
      "source": [
        "<a href=\"https://colab.research.google.com/github/tamzid1984/Python-Basic/blob/main/Activation_Function.ipynb\" target=\"_parent\"><img src=\"https://colab.research.google.com/assets/colab-badge.svg\" alt=\"Open In Colab\"/></a>"
      ]
    },
    {
      "cell_type": "code",
      "metadata": {
        "id": "icJAQKAv9AAi"
      },
      "source": [
        "import numpy as np # Metrix calculation # Number analysis\n",
        "import matplotlib.pyplot as plt # Visualisation \n",
        "%matplotlib inline"
      ],
      "execution_count": 1,
      "outputs": []
    },
    {
      "cell_type": "code",
      "metadata": {
        "id": "lMKO3MJE-UV0"
      },
      "source": [
        "x = np.arange(-5, 5, 0.01)"
      ],
      "execution_count": 2,
      "outputs": []
    },
    {
      "cell_type": "code",
      "metadata": {
        "id": "NxMZ09zkCA_s"
      },
      "source": [
        "def plot(func, yaxis = (-1.4, 1.4)):\n",
        "  plt.ylim(yaxis)\n",
        "  plt.locator_params(nbins = 5)\n",
        "  plt.xticks(fontsize = 14)\n",
        "  plt.yticks(fontsize = 14)\n",
        "  plt.axhline(lw = 1, c = 'black')\n",
        "  plt.axvline(lw = 1, c = 'black')\n",
        "  plt.grid(alpha = 0.4, ls = '-.')\n",
        "  plt.box(on = None)\n",
        "  plt.plot(x, func(x), c = 'r', lw = 3) # Recursion = Repeated \n"
      ],
      "execution_count": 3,
      "outputs": []
    },
    {
      "cell_type": "code",
      "metadata": {
        "id": "CP7gn9Z3EG4N",
        "outputId": "0ee3218b-972a-4f47-b277-ef3e26caac19",
        "colab": {
          "base_uri": "https://localhost:8080/"
        }
      },
      "source": [
        "binary_step = np.vectorize(lambda x: 1 if x > 0 else 0, otypes = [np.float])"
      ],
      "execution_count": 4,
      "outputs": [
        {
          "output_type": "stream",
          "name": "stderr",
          "text": [
            "<ipython-input-4-db50798c76e5>:1: DeprecationWarning: `np.float` is a deprecated alias for the builtin `float`. To silence this warning, use `float` by itself. Doing this will not modify any behavior and is safe. If you specifically wanted the numpy scalar type, use `np.float64` here.\n",
            "Deprecated in NumPy 1.20; for more details and guidance: https://numpy.org/devdocs/release/1.20.0-notes.html#deprecations\n",
            "  binary_step = np.vectorize(lambda x: 1 if x > 0 else 0, otypes = [np.float])\n"
          ]
        }
      ]
    },
    {
      "cell_type": "code",
      "metadata": {
        "colab": {
          "base_uri": "https://localhost:8080/",
          "height": 269
        },
        "id": "QO5DKo_qEGzo",
        "outputId": "7dd3d708-ce67-493c-f48b-b64c46bbbb8e"
      },
      "source": [
        "plot(binary_step, yaxis = (-0.4, 1.4)) # constructor"
      ],
      "execution_count": 5,
      "outputs": [
        {
          "output_type": "display_data",
          "data": {
            "text/plain": [
              "<Figure size 432x288 with 1 Axes>"
            ],
            "image/png": "[encoded data removed]"
          },
          "metadata": {
            "needs_background": "light"
          }
        }
      ]
    },
    {
      "cell_type": "code",
      "metadata": {
        "colab": {
          "base_uri": "https://localhost:8080/",
          "height": 269
        },
        "id": "BsbwLcoFEGwT",
        "outputId": "258d1784-9655-41ea-f66f-b033d04d10d3"
      },
      "source": [
        "plot(binary_step)"
      ],
      "execution_count": 6,
      "outputs": [
        {
          "output_type": "display_data",
          "data": {
            "text/plain": [
              "<Figure size 432x288 with 1 Axes>"
            ],
            "image/png": "[encoded data removed]"
          },
          "metadata": {
            "needs_background": "light"
          }
        }
      ]
    },
    {
      "cell_type": "code",
      "metadata": {
        "id": "nfJJGXKUEGuJ"
      },
      "source": [
        "piecewise_linear = np.vectorize(lambda x: 1 if x>3 else 0 if x<3 else 2)"
      ],
      "execution_count": 7,
      "outputs": []
    },
    {
      "cell_type": "code",
      "metadata": {
        "colab": {
          "base_uri": "https://localhost:8080/",
          "height": 269
        },
        "id": "6b6knLlREGrh",
        "outputId": "b3ed7ee8-70ea-4d20-935f-55999d52a763"
      },
      "source": [
        "plot(piecewise_linear)"
      ],
      "execution_count": 8,
      "outputs": [
        {
          "output_type": "display_data",
          "data": {
            "text/plain": [
              "<Figure size 432x288 with 1 Axes>"
            ],
            "image/png": "[encoded data removed]"
          },
          "metadata": {
            "needs_background": "light"
          }
        }
      ]
    },
    {
      "cell_type": "code",
      "metadata": {
        "id": "MLMT8qJ_EGYa"
      },
      "source": [
        "def sigmoid(x):\n",
        "  return 1 / (1 + np.exp(-x))"
      ],
      "execution_count": 9,
      "outputs": []
    },
    {
      "cell_type": "code",
      "metadata": {
        "colab": {
          "base_uri": "https://localhost:8080/",
          "height": 269
        },
        "id": "9nl4_baXHVwD",
        "outputId": "c18cfa8c-e943-4d1d-a703-f2a378d111f7"
      },
      "source": [
        "plot(sigmoid)"
      ],
      "execution_count": 10,
      "outputs": [
        {
          "output_type": "display_data",
          "data": {
            "text/plain": [
              "<Figure size 432x288 with 1 Axes>"
            ],
            "image/png": "[encoded data removed]"
          },
          "metadata": {
            "needs_background": "light"
          }
        }
      ]
    },
    {
      "cell_type": "code",
      "metadata": {
        "id": "fOJ3LrfZHYF6",
        "outputId": "1a07f48a-8f10-4a50-f6ab-2d87d435292a",
        "colab": {
          "base_uri": "https://localhost:8080/"
        }
      },
      "source": [
        "relu = np.vectorize(lambda x: x if x>0 else 0, otypes = [np.float])"
      ],
      "execution_count": 11,
      "outputs": [
        {
          "output_type": "stream",
          "name": "stderr",
          "text": [
            "<ipython-input-11-e957c9362e8d>:1: DeprecationWarning: `np.float` is a deprecated alias for the builtin `float`. To silence this warning, use `float` by itself. Doing this will not modify any behavior and is safe. If you specifically wanted the numpy scalar type, use `np.float64` here.\n",
            "Deprecated in NumPy 1.20; for more details and guidance: https://numpy.org/devdocs/release/1.20.0-notes.html#deprecations\n",
            "  relu = np.vectorize(lambda x: x if x>0 else 0, otypes = [np.float])\n"
          ]
        }
      ]
    },
    {
      "cell_type": "code",
      "metadata": {
        "colab": {
          "base_uri": "https://localhost:8080/",
          "height": 269
        },
        "id": "L-x69040H1gz",
        "outputId": "93f54bbf-e8b2-4ea7-9264-bb2229c9ee27"
      },
      "source": [
        "plot(relu)"
      ],
      "execution_count": 12,
      "outputs": [
        {
          "output_type": "display_data",
          "data": {
            "text/plain": [
              "<Figure size 432x288 with 1 Axes>"
            ],
            "image/png": "[encoded data removed]"
          },
          "metadata": {
            "needs_background": "light"
          }
        }
      ]
    },
    {
      "cell_type": "code",
      "metadata": {
        "id": "pdOx2wraH3BD",
        "outputId": "583c533e-5721-4b37-b345-a72b2d8151a7",
        "colab": {
          "base_uri": "https://localhost:8080/"
        }
      },
      "source": [
        "leaky_relu = np.vectorize(lambda x: x if max(0.1 *x, x) else 0, otypes = [np.float])"
      ],
      "execution_count": 13,
      "outputs": [
        {
          "output_type": "stream",
          "name": "stderr",
          "text": [
            "<ipython-input-13-3735271cdd11>:1: DeprecationWarning: `np.float` is a deprecated alias for the builtin `float`. To silence this warning, use `float` by itself. Doing this will not modify any behavior and is safe. If you specifically wanted the numpy scalar type, use `np.float64` here.\n",
            "Deprecated in NumPy 1.20; for more details and guidance: https://numpy.org/devdocs/release/1.20.0-notes.html#deprecations\n",
            "  leaky_relu = np.vectorize(lambda x: x if max(0.1 *x, x) else 0, otypes = [np.float])\n"
          ]
        }
      ]
    },
    {
      "cell_type": "code",
      "metadata": {
        "colab": {
          "base_uri": "https://localhost:8080/",
          "height": 269
        },
        "id": "tnjw1jm2IQYn",
        "outputId": "ba261c71-74dc-43b5-8fe1-1fcb4a91a88d"
      },
      "source": [
        "plot(leaky_relu)"
      ],
      "execution_count": 14,
      "outputs": [
        {
          "output_type": "display_data",
          "data": {
            "text/plain": [
              "<Figure size 432x288 with 1 Axes>"
            ],
            "image/png": "[encoded data removed]"
          },
          "metadata": {
            "needs_background": "light"
          }
        }
      ]
    },
    {
      "cell_type": "code",
      "metadata": {
        "id": "kdbeK5AIITBK",
        "outputId": "dc64d750-9208-480b-fdc9-9683d77d191d",
        "colab": {
          "base_uri": "https://localhost:8080/"
        }
      },
      "source": [
        "# Exponential Linear Units [ELU]\n",
        "elu = np.vectorize(lambda x: x if x > 0 else 0.5* (np.exp(x) - 1), otypes = [np.float])"
      ],
      "execution_count": 15,
      "outputs": [
        {
          "output_type": "stream",
          "name": "stderr",
          "text": [
            "<ipython-input-15-7931c30c350a>:2: DeprecationWarning: `np.float` is a deprecated alias for the builtin `float`. To silence this warning, use `float` by itself. Doing this will not modify any behavior and is safe. If you specifically wanted the numpy scalar type, use `np.float64` here.\n",
            "Deprecated in NumPy 1.20; for more details and guidance: https://numpy.org/devdocs/release/1.20.0-notes.html#deprecations\n",
            "  elu = np.vectorize(lambda x: x if x > 0 else 0.5* (np.exp(x) - 1), otypes = [np.float])\n"
          ]
        }
      ]
    },
    {
      "cell_type": "code",
      "metadata": {
        "colab": {
          "base_uri": "https://localhost:8080/",
          "height": 269
        },
        "id": "9e2LpdYBIu5a",
        "outputId": "44b2d76e-b174-4578-a3f2-1ab2199ede3f"
      },
      "source": [
        "plot(elu)"
      ],
      "execution_count": 16,
      "outputs": [
        {
          "output_type": "display_data",
          "data": {
            "text/plain": [
              "<Figure size 432x288 with 1 Axes>"
            ],
            "image/png": "[encoded data removed]"
          },
          "metadata": {
            "needs_background": "light"
          }
        }
      ]
    },
    {
      "cell_type": "code",
      "metadata": {
        "id": "c5AT7D0GIxz3"
      },
      "source": [
        "def softplus(x):\n",
        "  return np.log(1+ np.exp(x))"
      ],
      "execution_count": 17,
      "outputs": []
    },
    {
      "cell_type": "code",
      "metadata": {
        "colab": {
          "base_uri": "https://localhost:8080/",
          "height": 269
        },
        "id": "atLysx2vJS7f",
        "outputId": "45f438fb-6031-4521-cfe4-3259fedd8c4d"
      },
      "source": [
        "plot(softplus)"
      ],
      "execution_count": 18,
      "outputs": [
        {
          "output_type": "display_data",
          "data": {
            "text/plain": [
              "<Figure size 432x288 with 1 Axes>"
            ],
            "image/png": "[encoded data removed]"
          },
          "metadata": {
            "needs_background": "light"
          }
        }
      ]
    },
    {
      "cell_type": "code",
      "metadata": {
        "id": "oNBHprVlJU5Q"
      },
      "source": [],
      "execution_count": null,
      "outputs": []
    }
  ]
}