{
  "cells": [
    {
      "cell_type": "markdown",
      "metadata": {
        "id": "view-in-github",
        "colab_type": "text"
      },
      "source": [
        "<a href=\"https://colab.research.google.com/github/tamzid1984/DLFIRST/blob/main/FFNN.ipynb\" target=\"_parent\"><img src=\"https://colab.research.google.com/assets/colab-badge.svg\" alt=\"Open In Colab\"/></a>"
      ]
    },
    {
      "cell_type": "code",
      "execution_count": 1,
      "id": "64a033e8-ea35-4549-abb5-f67e21021e5f",
      "metadata": {
        "id": "64a033e8-ea35-4549-abb5-f67e21021e5f"
      },
      "outputs": [],
      "source": [
        "# Scikit-learn import \n",
        "# Load datasets\n",
        "# pip install tensorflow_datasets \n",
        "# Analysis the Data sets\n",
        "from sklearn.datasets import load_iris"
      ]
    },
    {
      "cell_type": "code",
      "execution_count": 2,
      "id": "1087f5fe-33a4-4dd8-bf30-9a267a66c264",
      "metadata": {
        "id": "1087f5fe-33a4-4dd8-bf30-9a267a66c264"
      },
      "outputs": [],
      "source": [
        "datasets = load_iris()"
      ]
    },
    {
      "cell_type": "markdown",
      "id": "08fd55d2-f3ff-4316-aa09-c65346146a79",
      "metadata": {
        "id": "08fd55d2-f3ff-4316-aa09-c65346146a79"
      },
      "source": [
        "* Data --> Feature metrix or multid-mensional-array\n",
        "* Target --> labels # final_output"
      ]
    },
    {
      "cell_type": "code",
      "execution_count": null,
      "id": "dbc80be7-fcd0-47d2-89fd-7a3eef39f835",
      "metadata": {
        "id": "dbc80be7-fcd0-47d2-89fd-7a3eef39f835"
      },
      "outputs": [],
      "source": [
        "# import pandas as pd\n",
        "# data = pd.read_csv(\"file name\")  # local directory "
      ]
    },
    {
      "cell_type": "code",
      "execution_count": 3,
      "id": "0c01607a-5554-484c-8e37-5142ddb1af84",
      "metadata": {
        "id": "0c01607a-5554-484c-8e37-5142ddb1af84"
      },
      "outputs": [],
      "source": [
        "# 1st Step Input Numbers\n",
        "data = datasets.data\n",
        "target = datasets.target"
      ]
    },
    {
      "cell_type": "code",
      "execution_count": 6,
      "id": "755bf0c9-a48d-44b8-8c36-7da2a31cedc2",
      "metadata": {
        "id": "755bf0c9-a48d-44b8-8c36-7da2a31cedc2",
        "outputId": "c4c2017f-e1ed-4ae8-9d9e-83d70d801446",
        "colab": {
          "base_uri": "https://localhost:8080/"
        }
      },
      "outputs": [
        {
          "output_type": "stream",
          "name": "stdout",
          "text": [
            "[[5.1 3.5 1.4 0.2]\n",
            " [4.9 3.  1.4 0.2]\n",
            " [4.7 3.2 1.3 0.2]\n",
            " [4.6 3.1 1.5 0.2]\n",
            " [5.  3.6 1.4 0.2]]\n",
            "[1 1 1 1 1 1 1 1 1 1 1 1 1 1 1]\n"
          ]
        }
      ],
      "source": [
        "print(data[:5])\n",
        "print(target[50:65])"
      ]
    },
    {
      "cell_type": "code",
      "execution_count": 7,
      "id": "753c3758-da3f-48c9-9d63-6ce54847baa6",
      "metadata": {
        "id": "753c3758-da3f-48c9-9d63-6ce54847baa6",
        "outputId": "1b377d4e-5fa6-455d-94c6-48aa3f5f0fb2",
        "colab": {
          "base_uri": "https://localhost:8080/"
        }
      },
      "outputs": [
        {
          "output_type": "stream",
          "name": "stdout",
          "text": [
            "150\n"
          ]
        }
      ],
      "source": [
        "print(len(data))"
      ]
    },
    {
      "cell_type": "code",
      "execution_count": 8,
      "id": "b60214f5-689a-4bf1-b8f1-02ec73f5add2",
      "metadata": {
        "id": "b60214f5-689a-4bf1-b8f1-02ec73f5add2",
        "outputId": "21b69203-4082-43d3-f328-f3930f928cfd",
        "colab": {
          "base_uri": "https://localhost:8080/"
        }
      },
      "outputs": [
        {
          "output_type": "execute_result",
          "data": {
            "text/plain": [
              "array([0, 1, 2])"
            ]
          },
          "metadata": {},
          "execution_count": 8
        }
      ],
      "source": [
        "import numpy as np\n",
        "np.unique(target)"
      ]
    },
    {
      "cell_type": "code",
      "execution_count": 10,
      "id": "764f830e-6505-47ed-b189-1d3f36f6e09b",
      "metadata": {
        "id": "764f830e-6505-47ed-b189-1d3f36f6e09b"
      },
      "outputs": [],
      "source": [
        "from tensorflow.keras.layers import Dense # 2nd Step Network\n",
        "import tensorflow as tf\n",
        "from tensorflow.keras.models import Sequential"
      ]
    },
    {
      "cell_type": "code",
      "execution_count": 11,
      "id": "6a6e0cec-9bb5-45ff-8745-eaab268af5f0",
      "metadata": {
        "id": "6a6e0cec-9bb5-45ff-8745-eaab268af5f0"
      },
      "outputs": [],
      "source": [
        "# Creating Model\n",
        "model = Sequential() # empty  model\n",
        "# 1st hidden layer\n",
        "model.add(Dense(8, input_dim = 4, activation = 'relu'))\n",
        "# 2nd Hidden layer\n",
        "model.add(Dense(8, input_dim = 8, activation = 'relu'))\n",
        "# final layer\n",
        "model.add(Dense(3, input_dim = 8, activation = 'softmax'))"
      ]
    },
    {
      "cell_type": "code",
      "execution_count": 12,
      "id": "c4f2ff18-afec-41f6-8f36-43baa02ee931",
      "metadata": {
        "id": "c4f2ff18-afec-41f6-8f36-43baa02ee931"
      },
      "outputs": [],
      "source": [
        "model.compile(loss = \"categorical_crossentropy\", optimizer = \"sgd\", metrics=['accuracy']) # for smooth performance"
      ]
    },
    {
      "cell_type": "code",
      "execution_count": 13,
      "id": "328c5f24-8ffb-4037-8764-9c0ddc7db0b5",
      "metadata": {
        "id": "328c5f24-8ffb-4037-8764-9c0ddc7db0b5"
      },
      "outputs": [],
      "source": [
        "from sklearn.model_selection import train_test_split"
      ]
    },
    {
      "cell_type": "code",
      "execution_count": 14,
      "id": "96715f90-c74a-4e96-8333-51580fcbf73e",
      "metadata": {
        "id": "96715f90-c74a-4e96-8333-51580fcbf73e"
      },
      "outputs": [],
      "source": [
        "train_data, test_data, train_target, test_target = train_test_split(data, target, test_size=0.2)"
      ]
    },
    {
      "cell_type": "code",
      "execution_count": 15,
      "id": "f8e2a99c-9475-4d31-9cb7-4ddc39d7dbe3",
      "metadata": {
        "id": "f8e2a99c-9475-4d31-9cb7-4ddc39d7dbe3"
      },
      "outputs": [],
      "source": [
        "from tensorflow.keras.utils import to_categorical #[0, 1, 2]"
      ]
    },
    {
      "cell_type": "code",
      "execution_count": 16,
      "id": "f638ebe1-afdd-492e-8597-9f2cc81f4857",
      "metadata": {
        "id": "f638ebe1-afdd-492e-8597-9f2cc81f4857"
      },
      "outputs": [],
      "source": [
        "update_train_target = to_categorical(train_target)"
      ]
    },
    {
      "cell_type": "code",
      "execution_count": 17,
      "id": "c381baf4-beb1-468e-bf4d-d04dcc8af855",
      "metadata": {
        "id": "c381baf4-beb1-468e-bf4d-d04dcc8af855",
        "outputId": "acec42ef-6417-4fb4-8ae9-e6e5b91344e3",
        "colab": {
          "base_uri": "https://localhost:8080/"
        }
      },
      "outputs": [
        {
          "output_type": "stream",
          "name": "stdout",
          "text": [
            "[[0. 1. 0.]\n",
            " [0. 0. 1.]\n",
            " [0. 1. 0.]\n",
            " [0. 0. 1.]\n",
            " [0. 0. 1.]]\n"
          ]
        }
      ],
      "source": [
        "print(update_train_target[:5])"
      ]
    },
    {
      "cell_type": "code",
      "execution_count": 18,
      "id": "aad8c5e9-3187-4233-83cb-d148768b79a7",
      "metadata": {
        "id": "aad8c5e9-3187-4233-83cb-d148768b79a7",
        "outputId": "363bdc1f-4e7f-4d83-d0a1-9b857ec54f6d",
        "colab": {
          "base_uri": "https://localhost:8080/"
        }
      },
      "outputs": [
        {
          "output_type": "stream",
          "name": "stdout",
          "text": [
            "Epoch 1/5\n",
            "4/4 [==============================] - 1s 3ms/step - loss: 1.2195 - accuracy: 0.3417\n",
            "Epoch 2/5\n",
            "4/4 [==============================] - 0s 2ms/step - loss: 0.9609 - accuracy: 0.3833\n",
            "Epoch 3/5\n",
            "4/4 [==============================] - 0s 2ms/step - loss: 0.9498 - accuracy: 0.4583\n",
            "Epoch 4/5\n",
            "4/4 [==============================] - 0s 3ms/step - loss: 0.9102 - accuracy: 0.4667\n",
            "Epoch 5/5\n",
            "4/4 [==============================] - 0s 2ms/step - loss: 0.8928 - accuracy: 0.5333\n"
          ]
        }
      ],
      "source": [
        "history = model.fit(train_data, update_train_target, epochs = 5)"
      ]
    },
    {
      "cell_type": "code",
      "execution_count": 19,
      "id": "b1bca77c-9f20-43e1-b40c-0036c524fcb4",
      "metadata": {
        "id": "b1bca77c-9f20-43e1-b40c-0036c524fcb4"
      },
      "outputs": [],
      "source": [
        "import matplotlib.pyplot as plt"
      ]
    },
    {
      "cell_type": "code",
      "execution_count": 20,
      "id": "5f089bc8-6528-4bf1-920f-f250baf12e9c",
      "metadata": {
        "id": "5f089bc8-6528-4bf1-920f-f250baf12e9c",
        "outputId": "6446571e-1c42-4971-e4dc-e34627c20524",
        "colab": {
          "base_uri": "https://localhost:8080/",
          "height": 279
        }
      },
      "outputs": [
        {
          "output_type": "display_data",
          "data": {
            "text/plain": [
              "<Figure size 432x288 with 1 Axes>"
            ],
            "image/png": "[encoded data removed]"
          },
          "metadata": {
            "needs_background": "light"
          }
        }
      ],
      "source": [
        "plt.plot(history.history['loss'])\n",
        "plt.xlabel(\"Iterations\")\n",
        "plt.ylabel(\"Loss Values\")\n",
        "plt.show()"
      ]
    },
    {
      "cell_type": "code",
      "execution_count": 21,
      "id": "74384672-935d-416c-9e0a-47c3b3a3ad3b",
      "metadata": {
        "id": "74384672-935d-416c-9e0a-47c3b3a3ad3b",
        "outputId": "222f9b95-aded-4fd8-a716-cdd786335c32",
        "colab": {
          "base_uri": "https://localhost:8080/",
          "height": 279
        }
      },
      "outputs": [
        {
          "output_type": "display_data",
          "data": {
            "text/plain": [
              "<Figure size 432x288 with 1 Axes>"
            ],
            "image/png": "[encoded data removed]"
          },
          "metadata": {
            "needs_background": "light"
          }
        }
      ],
      "source": [
        "plt.plot(history.history['accuracy'])\n",
        "plt.xlabel(\"Iterations\")\n",
        "plt.ylabel(\"Accuracy Values\")\n",
        "plt.show()"
      ]
    },
    {
      "cell_type": "code",
      "execution_count": 22,
      "id": "7eb1cae1-19d4-48e8-8b80-911557236bdb",
      "metadata": {
        "id": "7eb1cae1-19d4-48e8-8b80-911557236bdb",
        "outputId": "5b1ff925-1124-466d-f342-efb95748c9a5",
        "colab": {
          "base_uri": "https://localhost:8080/"
        }
      },
      "outputs": [
        {
          "output_type": "stream",
          "name": "stdout",
          "text": [
            "1/1 [==============================] - 0s 65ms/step\n"
          ]
        }
      ],
      "source": [
        "predicted_target = model.predict(test_data)"
      ]
    },
    {
      "cell_type": "code",
      "execution_count": 23,
      "id": "939c0667-6e55-4bc0-a0ec-472cb0ed7bc3",
      "metadata": {
        "id": "939c0667-6e55-4bc0-a0ec-472cb0ed7bc3",
        "outputId": "043191f7-14b9-4388-e245-d40e8264ea0c",
        "colab": {
          "base_uri": "https://localhost:8080/"
        }
      },
      "outputs": [
        {
          "output_type": "stream",
          "name": "stdout",
          "text": [
            "[[0.15110517 0.1935569  0.6553379 ]\n",
            " [0.13588232 0.17386772 0.69024986]\n",
            " [0.2115936  0.26890653 0.51949984]\n",
            " [0.08948147 0.16069728 0.74982125]\n",
            " [0.47567272 0.28643    0.2378972 ]\n",
            " [0.13023654 0.1911828  0.6785807 ]\n",
            " [0.12675989 0.21659894 0.6566411 ]\n",
            " [0.1781161  0.17929204 0.6425919 ]\n",
            " [0.11902256 0.18342692 0.6975504 ]\n",
            " [0.15898526 0.22845788 0.6125568 ]\n",
            " [0.10497204 0.15921856 0.7358094 ]\n",
            " [0.4546565  0.26074147 0.2846019 ]\n",
            " [0.13549738 0.20726201 0.6572407 ]\n",
            " [0.49019235 0.2450608  0.26474687]\n",
            " [0.12084487 0.18644466 0.6927105 ]\n",
            " [0.46250638 0.25811863 0.2793749 ]\n",
            " [0.18721886 0.24503209 0.567749  ]\n",
            " [0.19754611 0.2457246  0.5567292 ]\n",
            " [0.48136097 0.23081385 0.28782514]\n",
            " [0.10310084 0.20996009 0.6869392 ]\n",
            " [0.4853954  0.28083068 0.23377393]\n",
            " [0.16139206 0.19937551 0.6392324 ]\n",
            " [0.46160552 0.27467188 0.26372257]\n",
            " [0.15559067 0.26298282 0.5814265 ]\n",
            " [0.4444653  0.2520513  0.3034834 ]\n",
            " [0.20212694 0.23055941 0.56731373]\n",
            " [0.5137664  0.22835782 0.25787583]\n",
            " [0.4793429  0.2668145  0.25384253]\n",
            " [0.1313423  0.20566387 0.66299385]\n",
            " [0.18052517 0.28302395 0.53645086]]\n"
          ]
        }
      ],
      "source": [
        "print(predicted_target)"
      ]
    },
    {
      "cell_type": "code",
      "execution_count": 24,
      "id": "b4f271e7-d8f7-4d76-bd4d-1cdf3dc3cdb3",
      "metadata": {
        "id": "b4f271e7-d8f7-4d76-bd4d-1cdf3dc3cdb3"
      },
      "outputs": [],
      "source": [
        "import numpy as np"
      ]
    },
    {
      "cell_type": "code",
      "execution_count": 25,
      "id": "efdf52b5-6850-406e-b710-49b06b7ff8ad",
      "metadata": {
        "id": "efdf52b5-6850-406e-b710-49b06b7ff8ad",
        "outputId": "5f070012-7eac-4c40-e8bb-52bfa3d18298",
        "colab": {
          "base_uri": "https://localhost:8080/"
        }
      },
      "outputs": [
        {
          "output_type": "stream",
          "name": "stdout",
          "text": [
            "Pre-labels:  [2 2 2 2 0 2 2 2 2 2 2 0 2 0 2 0 2 2 0 2 0 2 0 2 0 2 0 0 2 2]\n",
            "Actual_labels: [2 2 1 2 0 2 2 1 2 2 2 0 2 0 2 0 1 1 0 2 0 1 0 2 0 1 0 0 2 1]\n"
          ]
        }
      ],
      "source": [
        "print(\"Pre-labels: \", np.argmax(predicted_target, axis = 1))\n",
        "print(\"Actual_labels:\", test_target)"
      ]
    },
    {
      "cell_type": "code",
      "execution_count": null,
      "id": "98076e9c-ef7c-4ae5-9a06-96c3e811d0f6",
      "metadata": {
        "id": "98076e9c-ef7c-4ae5-9a06-96c3e811d0f6"
      },
      "outputs": [],
      "source": []
    }
  ],
  "metadata": {
    "kernelspec": {
      "display_name": "Python 3",
      "language": "python",
      "name": "python3"
    },
    "language_info": {
      "codemirror_mode": {
        "name": "ipython",
        "version": 3
      },
      "file_extension": ".py",
      "mimetype": "text/x-python",
      "name": "python",
      "nbconvert_exporter": "python",
      "pygments_lexer": "ipython3",
      "version": "3.7.11"
    },
    "colab": {
      "provenance": [],
      "include_colab_link": true
    }
  },
  "nbformat": 4,
  "nbformat_minor": 5
}