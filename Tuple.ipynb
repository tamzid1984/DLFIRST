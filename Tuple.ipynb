{
  "cells": [
    {
      "cell_type": "markdown",
      "metadata": {
        "id": "view-in-github",
        "colab_type": "text"
      },
      "source": [
        "<a href=\"https://colab.research.google.com/github/tamzid1984/Python-Basic/blob/main/Tuple.ipynb\" target=\"_parent\"><img src=\"https://colab.research.google.com/assets/colab-badge.svg\" alt=\"Open In Colab\"/></a>"
      ]
    },
    {
      "cell_type": "code",
      "execution_count": 1,
      "id": "99459746-c2ac-419a-9dde-405e0ab1b7f4",
      "metadata": {
        "id": "99459746-c2ac-419a-9dde-405e0ab1b7f4"
      },
      "outputs": [],
      "source": [
        "tle = (1, 2, 3, 4, 5, 6)"
      ]
    },
    {
      "cell_type": "code",
      "execution_count": 2,
      "id": "d203cd23-2d36-4582-80e8-c445dac82304",
      "metadata": {
        "id": "d203cd23-2d36-4582-80e8-c445dac82304",
        "outputId": "9805d740-7565-4c5c-980e-8c033d1b68ab",
        "colab": {
          "base_uri": "https://localhost:8080/"
        }
      },
      "outputs": [
        {
          "output_type": "execute_result",
          "data": {
            "text/plain": [
              "tuple"
            ]
          },
          "metadata": {},
          "execution_count": 2
        }
      ],
      "source": [
        "type(tle)"
      ]
    },
    {
      "cell_type": "code",
      "execution_count": 3,
      "id": "973413a4-a160-48df-b555-146f2b312afe",
      "metadata": {
        "id": "973413a4-a160-48df-b555-146f2b312afe"
      },
      "outputs": [],
      "source": [
        "li = [2]"
      ]
    },
    {
      "cell_type": "code",
      "execution_count": 4,
      "id": "836299d5-4fe1-4369-ad04-0d1dd3852384",
      "metadata": {
        "id": "836299d5-4fe1-4369-ad04-0d1dd3852384",
        "outputId": "b4c6ec2c-fc64-4701-db54-55c72275bfc8",
        "colab": {
          "base_uri": "https://localhost:8080/"
        }
      },
      "outputs": [
        {
          "output_type": "execute_result",
          "data": {
            "text/plain": [
              "tuple"
            ]
          },
          "metadata": {},
          "execution_count": 4
        }
      ],
      "source": [
        "#Empty Tuple \n",
        "t = ()\n",
        "type(t)"
      ]
    },
    {
      "cell_type": "code",
      "execution_count": 5,
      "id": "cc0e6187-a41d-4f5f-aa4f-9c81fe02344d",
      "metadata": {
        "id": "cc0e6187-a41d-4f5f-aa4f-9c81fe02344d"
      },
      "outputs": [],
      "source": [
        "li = [1, ]\n",
        "tl = (1,)"
      ]
    },
    {
      "cell_type": "code",
      "execution_count": 6,
      "id": "4bffd9c4-d795-4e55-bc9d-2dc1f57dbf75",
      "metadata": {
        "id": "4bffd9c4-d795-4e55-bc9d-2dc1f57dbf75",
        "outputId": "7d9907f6-eb3e-489f-a8bf-44dd7b09cfb0",
        "colab": {
          "base_uri": "https://localhost:8080/"
        }
      },
      "outputs": [
        {
          "output_type": "execute_result",
          "data": {
            "text/plain": [
              "('a',)"
            ]
          },
          "metadata": {},
          "execution_count": 6
        }
      ],
      "source": [
        "t = \"a\",\n",
        "t"
      ]
    },
    {
      "cell_type": "code",
      "execution_count": 7,
      "id": "acd4c96a-2a06-4764-a919-53c50ed9b93c",
      "metadata": {
        "id": "acd4c96a-2a06-4764-a919-53c50ed9b93c",
        "outputId": "2e5d666c-060b-475e-b7b3-95ad1cf5566b",
        "colab": {
          "base_uri": "https://localhost:8080/"
        }
      },
      "outputs": [
        {
          "output_type": "stream",
          "name": "stdout",
          "text": [
            "Bangladesh\n"
          ]
        }
      ],
      "source": [
        "t = (\"Bangladesh\")\n",
        "print(t)"
      ]
    },
    {
      "cell_type": "code",
      "execution_count": 8,
      "id": "b2d2d018-3a6a-4cc1-ab10-00f16bbe9aa1",
      "metadata": {
        "id": "b2d2d018-3a6a-4cc1-ab10-00f16bbe9aa1",
        "outputId": "7bb103fa-aa69-4b53-81e7-c5f71e1f417a",
        "colab": {
          "base_uri": "https://localhost:8080/"
        }
      },
      "outputs": [
        {
          "output_type": "execute_result",
          "data": {
            "text/plain": [
              "[1, 2, 9, 3, 4]"
            ]
          },
          "metadata": {},
          "execution_count": 8
        }
      ],
      "source": [
        "li = [1, 2, 4,3, 4]\n",
        "li[2] = 9\n",
        "li"
      ]
    },
    {
      "cell_type": "code",
      "execution_count": 9,
      "id": "8bd4d6c5-8489-4540-9707-a4e50c65429c",
      "metadata": {
        "id": "8bd4d6c5-8489-4540-9707-a4e50c65429c",
        "outputId": "bc2e16cc-6f05-46a2-affe-dbc520e6580b",
        "colab": {
          "base_uri": "https://localhost:8080/",
          "height": 190
        }
      },
      "outputs": [
        {
          "output_type": "error",
          "ename": "TypeError",
          "evalue": "ignored",
          "traceback": [
            "\u001b[0;31m---------------------------------------------------------------------------\u001b[0m",
            "\u001b[0;31mTypeError\u001b[0m                                 Traceback (most recent call last)",
            "\u001b[0;32m<ipython-input-9-86488d7ad225>\u001b[0m in \u001b[0;36m<module>\u001b[0;34m\u001b[0m\n\u001b[1;32m      1\u001b[0m \u001b[0mtl\u001b[0m \u001b[0;34m=\u001b[0m \u001b[0;34m(\u001b[0m\u001b[0;36m1\u001b[0m\u001b[0;34m,\u001b[0m \u001b[0;36m2\u001b[0m\u001b[0;34m,\u001b[0m \u001b[0;36m3\u001b[0m\u001b[0;34m,\u001b[0m \u001b[0;36m4\u001b[0m\u001b[0;34m)\u001b[0m\u001b[0;34m\u001b[0m\u001b[0;34m\u001b[0m\u001b[0m\n\u001b[0;32m----> 2\u001b[0;31m \u001b[0mtl\u001b[0m\u001b[0;34m[\u001b[0m\u001b[0;36m2\u001b[0m\u001b[0;34m]\u001b[0m  \u001b[0;34m=\u001b[0m \u001b[0;36m9\u001b[0m\u001b[0;34m\u001b[0m\u001b[0;34m\u001b[0m\u001b[0m\n\u001b[0m",
            "\u001b[0;31mTypeError\u001b[0m: 'tuple' object does not support item assignment"
          ]
        }
      ],
      "source": [
        "tl = (1, 2, 3, 4)\n",
        "tl[2]  = 9"
      ]
    },
    {
      "cell_type": "code",
      "execution_count": 10,
      "id": "43f2de97-ea1f-4705-980d-cb071e59bc5c",
      "metadata": {
        "id": "43f2de97-ea1f-4705-980d-cb071e59bc5c"
      },
      "outputs": [],
      "source": [
        "tl2 = (9, 3, 2, 1)"
      ]
    },
    {
      "cell_type": "code",
      "execution_count": 11,
      "id": "aaecaae7-d342-459e-8074-d06451073d68",
      "metadata": {
        "id": "aaecaae7-d342-459e-8074-d06451073d68"
      },
      "outputs": [],
      "source": [
        "tl+=tl2"
      ]
    },
    {
      "cell_type": "code",
      "execution_count": 12,
      "id": "263923f7-54ec-41eb-aad1-6d7f2375a192",
      "metadata": {
        "id": "263923f7-54ec-41eb-aad1-6d7f2375a192",
        "outputId": "59b7f568-98fd-4e2e-fd40-43275fc67915",
        "colab": {
          "base_uri": "https://localhost:8080/"
        }
      },
      "outputs": [
        {
          "output_type": "execute_result",
          "data": {
            "text/plain": [
              "(1, 2, 3, 4, 9, 3, 2, 1)"
            ]
          },
          "metadata": {},
          "execution_count": 12
        }
      ],
      "source": [
        "tl"
      ]
    },
    {
      "cell_type": "code",
      "execution_count": 13,
      "id": "0ed09d58-c22e-40eb-a114-387848efbf82",
      "metadata": {
        "id": "0ed09d58-c22e-40eb-a114-387848efbf82"
      },
      "outputs": [],
      "source": [
        "tl+=(2, 2)"
      ]
    },
    {
      "cell_type": "code",
      "execution_count": 14,
      "id": "f7408b54-5209-4327-857b-e28a021af60a",
      "metadata": {
        "id": "f7408b54-5209-4327-857b-e28a021af60a",
        "outputId": "770093c1-6db3-42ec-9b70-2c2f0986d4ea",
        "colab": {
          "base_uri": "https://localhost:8080/"
        }
      },
      "outputs": [
        {
          "output_type": "execute_result",
          "data": {
            "text/plain": [
              "(1, 2, 3, 4, 9, 3, 2, 1, 2, 2)"
            ]
          },
          "metadata": {},
          "execution_count": 14
        }
      ],
      "source": [
        "tl"
      ]
    },
    {
      "cell_type": "code",
      "execution_count": 15,
      "id": "111ae726-ad65-4635-b6ee-dcc160235aca",
      "metadata": {
        "id": "111ae726-ad65-4635-b6ee-dcc160235aca"
      },
      "outputs": [],
      "source": [
        "a = 1\n",
        "b = 1,"
      ]
    },
    {
      "cell_type": "code",
      "execution_count": 16,
      "id": "5f0e7ce1-2f84-4c82-bbcd-49e49a5d0955",
      "metadata": {
        "id": "5f0e7ce1-2f84-4c82-bbcd-49e49a5d0955",
        "outputId": "4791cfc4-5ada-49ab-954b-b5d447221b62",
        "colab": {
          "base_uri": "https://localhost:8080/"
        }
      },
      "outputs": [
        {
          "output_type": "stream",
          "name": "stdout",
          "text": [
            "<class 'int'>\n",
            "<class 'tuple'>\n"
          ]
        }
      ],
      "source": [
        "print(type(a))\n",
        "print(type(b))"
      ]
    },
    {
      "cell_type": "code",
      "execution_count": 17,
      "id": "47cd7b4d-f3a7-4150-b52b-fca9fddb09a3",
      "metadata": {
        "id": "47cd7b4d-f3a7-4150-b52b-fca9fddb09a3"
      },
      "outputs": [],
      "source": [
        "a = 1,2, 3, 4"
      ]
    },
    {
      "cell_type": "code",
      "execution_count": 18,
      "id": "3ec7b297-7cde-446a-8723-ee4bbdb6494a",
      "metadata": {
        "id": "3ec7b297-7cde-446a-8723-ee4bbdb6494a",
        "outputId": "f26d3ded-c44b-4c09-8fa6-a26355755db3",
        "colab": {
          "base_uri": "https://localhost:8080/"
        }
      },
      "outputs": [
        {
          "output_type": "execute_result",
          "data": {
            "text/plain": [
              "tuple"
            ]
          },
          "metadata": {},
          "execution_count": 18
        }
      ],
      "source": [
        "type(a)"
      ]
    },
    {
      "cell_type": "code",
      "execution_count": 19,
      "id": "e8ddb1c6-40e0-4d34-bc8f-86deb2bf20d5",
      "metadata": {
        "id": "e8ddb1c6-40e0-4d34-bc8f-86deb2bf20d5",
        "outputId": "997a3d90-ac78-4172-87b3-5d9aa9310a3f",
        "colab": {
          "base_uri": "https://localhost:8080/"
        }
      },
      "outputs": [
        {
          "output_type": "execute_result",
          "data": {
            "text/plain": [
              "4"
            ]
          },
          "metadata": {},
          "execution_count": 19
        }
      ],
      "source": [
        "max(a)"
      ]
    },
    {
      "cell_type": "code",
      "execution_count": 20,
      "id": "f0f4a3e5-07df-463b-a44b-089fbfab84c0",
      "metadata": {
        "id": "f0f4a3e5-07df-463b-a44b-089fbfab84c0",
        "outputId": "df843bf4-d2a6-4512-a3d0-f5a132645686",
        "colab": {
          "base_uri": "https://localhost:8080/"
        }
      },
      "outputs": [
        {
          "output_type": "execute_result",
          "data": {
            "text/plain": [
              "1"
            ]
          },
          "metadata": {},
          "execution_count": 20
        }
      ],
      "source": [
        "min(a)"
      ]
    },
    {
      "cell_type": "code",
      "execution_count": 21,
      "id": "0c54d87e-00cc-494e-9041-09a1f88a96b6",
      "metadata": {
        "id": "0c54d87e-00cc-494e-9041-09a1f88a96b6",
        "outputId": "ca5df070-1e86-4c32-eab3-262b9985682a",
        "colab": {
          "base_uri": "https://localhost:8080/"
        }
      },
      "outputs": [
        {
          "output_type": "stream",
          "name": "stdout",
          "text": [
            "Looking in indexes: https://pypi.org/simple, https://us-python.pkg.dev/colab-wheels/public/simple/\n",
            "Requirement already satisfied: numpy in /usr/local/lib/python3.8/dist-packages (1.21.6)\n"
          ]
        }
      ],
      "source": [
        "!pip install numpy"
      ]
    },
    {
      "cell_type": "code",
      "execution_count": 22,
      "id": "8264b9d5-1669-4d09-b1ef-6939f972a08f",
      "metadata": {
        "id": "8264b9d5-1669-4d09-b1ef-6939f972a08f"
      },
      "outputs": [],
      "source": [
        "import numpy as np\n"
      ]
    },
    {
      "cell_type": "code",
      "execution_count": 23,
      "id": "eae267bc-206b-46da-b1a7-1030aae0c248",
      "metadata": {
        "id": "eae267bc-206b-46da-b1a7-1030aae0c248",
        "outputId": "674839ad-0dc0-458e-d0b9-7f1a15cae21e",
        "colab": {
          "base_uri": "https://localhost:8080/"
        }
      },
      "outputs": [
        {
          "output_type": "execute_result",
          "data": {
            "text/plain": [
              "2.5"
            ]
          },
          "metadata": {},
          "execution_count": 23
        }
      ],
      "source": [
        "np.mean(a)"
      ]
    },
    {
      "cell_type": "code",
      "execution_count": 24,
      "id": "daaecbe5-182d-4f89-a3b9-9fe3e5fce120",
      "metadata": {
        "id": "daaecbe5-182d-4f89-a3b9-9fe3e5fce120",
        "outputId": "7c41633d-4184-4285-e331-0a257d5c7f14",
        "colab": {
          "base_uri": "https://localhost:8080/"
        }
      },
      "outputs": [
        {
          "output_type": "execute_result",
          "data": {
            "text/plain": [
              "2.5"
            ]
          },
          "metadata": {},
          "execution_count": 24
        }
      ],
      "source": [
        "np.median(a)"
      ]
    },
    {
      "cell_type": "code",
      "execution_count": 25,
      "id": "8b1266fa-7531-47f3-8047-e75c9e9bcd7b",
      "metadata": {
        "id": "8b1266fa-7531-47f3-8047-e75c9e9bcd7b",
        "outputId": "e1a8d8a8-bf0e-42c1-f65c-98f2bea41102",
        "colab": {
          "base_uri": "https://localhost:8080/"
        }
      },
      "outputs": [
        {
          "output_type": "execute_result",
          "data": {
            "text/plain": [
              "36"
            ]
          },
          "metadata": {},
          "execution_count": 25
        }
      ],
      "source": [
        "np.multiply(9, 4)"
      ]
    },
    {
      "cell_type": "code",
      "execution_count": 26,
      "id": "55f0be34-5892-4ae7-9a47-eeaaf61f6b15",
      "metadata": {
        "id": "55f0be34-5892-4ae7-9a47-eeaaf61f6b15",
        "outputId": "dbd01ee9-3200-4484-8cec-b8716e75618c",
        "colab": {
          "base_uri": "https://localhost:8080/"
        }
      },
      "outputs": [
        {
          "output_type": "execute_result",
          "data": {
            "text/plain": [
              "4"
            ]
          },
          "metadata": {},
          "execution_count": 26
        }
      ],
      "source": [
        "len(a)"
      ]
    },
    {
      "cell_type": "code",
      "execution_count": 27,
      "id": "1fa089c1-2318-4f79-a28a-b6e4fa526867",
      "metadata": {
        "id": "1fa089c1-2318-4f79-a28a-b6e4fa526867"
      },
      "outputs": [],
      "source": [
        "a = (1, 2, 3)\n",
        "b= ('a', 'b', 'c')"
      ]
    },
    {
      "cell_type": "code",
      "execution_count": 28,
      "id": "caea7fbb-2c21-4cc5-81a8-a698b3578254",
      "metadata": {
        "id": "caea7fbb-2c21-4cc5-81a8-a698b3578254",
        "outputId": "70fc590f-4590-4dc5-c67a-d83ba7844c8e",
        "colab": {
          "base_uri": "https://localhost:8080/"
        }
      },
      "outputs": [
        {
          "output_type": "execute_result",
          "data": {
            "text/plain": [
              "(1, 2, 3, 'a', 'b', 'c')"
            ]
          },
          "metadata": {},
          "execution_count": 28
        }
      ],
      "source": [
        "a+b"
      ]
    },
    {
      "cell_type": "code",
      "execution_count": 29,
      "id": "d5e8ab76-2736-491c-83e2-29252751c809",
      "metadata": {
        "id": "d5e8ab76-2736-491c-83e2-29252751c809",
        "outputId": "409c3ba1-f3c9-4019-c37a-5e44692d5f92",
        "colab": {
          "base_uri": "https://localhost:8080/",
          "height": 190
        }
      },
      "outputs": [
        {
          "output_type": "error",
          "ename": "TypeError",
          "evalue": "ignored",
          "traceback": [
            "\u001b[0;31m---------------------------------------------------------------------------\u001b[0m",
            "\u001b[0;31mTypeError\u001b[0m                                 Traceback (most recent call last)",
            "\u001b[0;32m<ipython-input-29-d77708baef1f>\u001b[0m in \u001b[0;36m<module>\u001b[0;34m\u001b[0m\n\u001b[0;32m----> 1\u001b[0;31m \u001b[0ma\u001b[0m \u001b[0;34m=\u001b[0m \u001b[0mlist\u001b[0m\u001b[0;34m[\u001b[0m\u001b[0;36m1\u001b[0m\u001b[0;34m,\u001b[0m \u001b[0;36m2\u001b[0m\u001b[0;34m,\u001b[0m \u001b[0;36m3\u001b[0m\u001b[0;34m]\u001b[0m\u001b[0;34m\u001b[0m\u001b[0;34m\u001b[0m\u001b[0m\n\u001b[0m\u001b[1;32m      2\u001b[0m \u001b[0mb\u001b[0m\u001b[0;34m=\u001b[0m \u001b[0mlist\u001b[0m\u001b[0;34m[\u001b[0m\u001b[0;34m'a'\u001b[0m\u001b[0;34m,\u001b[0m \u001b[0;34m'b'\u001b[0m\u001b[0;34m,\u001b[0m \u001b[0;34m'c'\u001b[0m\u001b[0;34m]\u001b[0m\u001b[0;34m\u001b[0m\u001b[0;34m\u001b[0m\u001b[0m\n",
            "\u001b[0;31mTypeError\u001b[0m: 'type' object is not subscriptable"
          ]
        }
      ],
      "source": [
        "a = list[1, 2, 3]\n",
        "b= list['a', 'b', 'c']"
      ]
    },
    {
      "cell_type": "code",
      "execution_count": 30,
      "id": "d5b10cbb-74fb-4dbd-809c-0f6e8dee8c80",
      "metadata": {
        "id": "d5b10cbb-74fb-4dbd-809c-0f6e8dee8c80",
        "outputId": "9c96f956-c4e0-4ee5-a9e3-7379f8daa984",
        "colab": {
          "base_uri": "https://localhost:8080/"
        }
      },
      "outputs": [
        {
          "output_type": "execute_result",
          "data": {
            "text/plain": [
              "(1, 2, 3, 'a', 'b', 'c')"
            ]
          },
          "metadata": {},
          "execution_count": 30
        }
      ],
      "source": [
        "a+b"
      ]
    },
    {
      "cell_type": "code",
      "execution_count": 31,
      "id": "b37bb234-d278-45e2-a0e7-a521c3877e36",
      "metadata": {
        "id": "b37bb234-d278-45e2-a0e7-a521c3877e36"
      },
      "outputs": [],
      "source": [
        "a = (1, 2, 3, 4, 5, 6)"
      ]
    },
    {
      "cell_type": "code",
      "execution_count": null,
      "id": "173f24ff-9122-4c74-a0a1-b1f760757c69",
      "metadata": {
        "id": "173f24ff-9122-4c74-a0a1-b1f760757c69"
      },
      "outputs": [],
      "source": []
    }
  ],
  "metadata": {
    "kernelspec": {
      "display_name": "Python 3",
      "language": "python",
      "name": "python3"
    },
    "language_info": {
      "codemirror_mode": {
        "name": "ipython",
        "version": 3
      },
      "file_extension": ".py",
      "mimetype": "text/x-python",
      "name": "python",
      "nbconvert_exporter": "python",
      "pygments_lexer": "ipython3",
      "version": "3.9.6"
    },
    "colab": {
      "provenance": [],
      "include_colab_link": true
    }
  },
  "nbformat": 4,
  "nbformat_minor": 5
}