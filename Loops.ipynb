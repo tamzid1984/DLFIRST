{
  "cells": [
    {
      "cell_type": "markdown",
      "metadata": {
        "id": "view-in-github",
        "colab_type": "text"
      },
      "source": [
        "<a href=\"https://colab.research.google.com/github/tamzid1984/Python-Basic/blob/main/Loops.ipynb\" target=\"_parent\"><img src=\"https://colab.research.google.com/assets/colab-badge.svg\" alt=\"Open In Colab\"/></a>"
      ]
    },
    {
      "cell_type": "code",
      "execution_count": 1,
      "id": "7e001d6a-91a5-48a3-b842-28e8dd07acea",
      "metadata": {
        "id": "7e001d6a-91a5-48a3-b842-28e8dd07acea"
      },
      "outputs": [],
      "source": [
        "a = []\n",
        "for i in range(1, 11):\n",
        "    a.append(i)"
      ]
    },
    {
      "cell_type": "code",
      "execution_count": 2,
      "id": "8d1f6505-00d0-4d75-946d-3e00bf05bae4",
      "metadata": {
        "id": "8d1f6505-00d0-4d75-946d-3e00bf05bae4",
        "outputId": "c2939578-997d-449d-d48c-39500655b9c5",
        "colab": {
          "base_uri": "https://localhost:8080/"
        }
      },
      "outputs": [
        {
          "output_type": "execute_result",
          "data": {
            "text/plain": [
              "[1, 2, 3, 4, 5, 6, 7, 8, 9, 10]"
            ]
          },
          "metadata": {},
          "execution_count": 2
        }
      ],
      "source": [
        "a"
      ]
    },
    {
      "cell_type": "code",
      "execution_count": 3,
      "id": "2b8c992e-df60-42b7-905b-151932385ee1",
      "metadata": {
        "id": "2b8c992e-df60-42b7-905b-151932385ee1",
        "outputId": "79343f1f-0297-4bca-cd13-68609b8b74e3",
        "colab": {
          "base_uri": "https://localhost:8080/"
        }
      },
      "outputs": [
        {
          "output_type": "stream",
          "name": "stdout",
          "text": [
            "2\n",
            "4\n",
            "6\n",
            "8\n",
            "10\n"
          ]
        }
      ],
      "source": [
        "#Even\n",
        "for i in range(1,11):\n",
        "    if i%2 == 0:\n",
        "        print(i)"
      ]
    },
    {
      "cell_type": "code",
      "execution_count": 4,
      "id": "add69280-29d0-49e4-8dc6-20a7628a52fd",
      "metadata": {
        "id": "add69280-29d0-49e4-8dc6-20a7628a52fd",
        "outputId": "d9c8fbcb-72ba-4c16-fac5-84bcb8ce715b",
        "colab": {
          "base_uri": "https://localhost:8080/"
        }
      },
      "outputs": [
        {
          "output_type": "stream",
          "name": "stdout",
          "text": [
            "1\n",
            "3\n",
            "5\n",
            "7\n",
            "9\n"
          ]
        }
      ],
      "source": [
        "#ODD\n",
        "for i in range(1,11):\n",
        "    if i%2 != 0:\n",
        "        print(i)"
      ]
    },
    {
      "cell_type": "code",
      "execution_count": 5,
      "id": "13caae8d-38cb-4b0a-b5ca-d7937c80d59f",
      "metadata": {
        "id": "13caae8d-38cb-4b0a-b5ca-d7937c80d59f",
        "outputId": "905ee5e9-7f07-4520-ef32-34fadc34d330",
        "colab": {
          "base_uri": "https://localhost:8080/"
        }
      },
      "outputs": [
        {
          "output_type": "stream",
          "name": "stdout",
          "text": [
            "0\n",
            "1\n",
            "2\n",
            "Break\n"
          ]
        }
      ],
      "source": [
        "i = 0\n",
        "while i< 7:\n",
        "    print(i)\n",
        "    if i == 2:\n",
        "        print(\"Break\")\n",
        "        break\n",
        "    i+=1"
      ]
    },
    {
      "cell_type": "code",
      "execution_count": null,
      "id": "3ee54f25-4435-4b6a-ae3a-9b2c596ca46b",
      "metadata": {
        "id": "3ee54f25-4435-4b6a-ae3a-9b2c596ca46b"
      },
      "outputs": [],
      "source": []
    }
  ],
  "metadata": {
    "kernelspec": {
      "display_name": "Python 3",
      "language": "python",
      "name": "python3"
    },
    "language_info": {
      "codemirror_mode": {
        "name": "ipython",
        "version": 3
      },
      "file_extension": ".py",
      "mimetype": "text/x-python",
      "name": "python",
      "nbconvert_exporter": "python",
      "pygments_lexer": "ipython3",
      "version": "3.9.6"
    },
    "colab": {
      "provenance": [],
      "include_colab_link": true
    }
  },
  "nbformat": 4,
  "nbformat_minor": 5
}